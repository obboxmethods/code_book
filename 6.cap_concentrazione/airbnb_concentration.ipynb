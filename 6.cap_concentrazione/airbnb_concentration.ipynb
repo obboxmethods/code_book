{
 "cells": [
  {
   "cell_type": "code",
   "execution_count": 42,
   "metadata": {},
   "outputs": [],
   "source": [
    "import pandas as pd \n",
    "import numpy as np\n",
    "import matplotlib.pyplot as plt\n"
   ]
  },
  {
   "cell_type": "code",
   "execution_count": 34,
   "metadata": {},
   "outputs": [],
   "source": [
    "def gini(x):\n",
    "    diff = np.abs(np.subtract.outer(x, x)).mean()\n",
    "    rmad = diff/np.mean(x)\n",
    "    g = 0.5 * rmad\n",
    "    return g"
   ]
  },
  {
   "cell_type": "code",
   "execution_count": 2,
   "metadata": {},
   "outputs": [],
   "source": [
    "df_list= pd.read_csv('/mnt/mass_drive/Dropbox/Dropbox/Momolbox/code/libro/cap_concentrazione/listings.csv')[['id','host_id','price']]\n",
    "df_revs= pd.read_csv('/mnt/mass_drive/Dropbox/Dropbox/Momolbox/code/libro/cap_concentrazione/reviews.csv')"
   ]
  },
  {
   "cell_type": "code",
   "execution_count": 3,
   "metadata": {},
   "outputs": [
    {
     "data": {
      "text/plain": [
       "Index(['id', 'host_id', 'price'], dtype='object')"
      ]
     },
     "execution_count": 3,
     "metadata": {},
     "output_type": "execute_result"
    }
   ],
   "source": [
    "df_list.columns"
   ]
  },
  {
   "cell_type": "code",
   "execution_count": 4,
   "metadata": {},
   "outputs": [
    {
     "data": {
      "text/plain": [
       "Index(['listing_id', 'id', 'date', 'reviewer_id', 'reviewer_name', 'comments'], dtype='object')"
      ]
     },
     "execution_count": 4,
     "metadata": {},
     "output_type": "execute_result"
    }
   ],
   "source": [
    "df_revs.columns"
   ]
  },
  {
   "cell_type": "code",
   "execution_count": 6,
   "metadata": {},
   "outputs": [],
   "source": [
    "df = pd.merge(df_list,df_revs,  left_on='id',right_on='listing_id')"
   ]
  },
  {
   "cell_type": "code",
   "execution_count": 8,
   "metadata": {},
   "outputs": [],
   "source": [
    "df['date'] = pd.to_datetime(df['date'])"
   ]
  },
  {
   "cell_type": "code",
   "execution_count": 9,
   "metadata": {},
   "outputs": [],
   "source": [
    "df['year'] = df['date'].dt.year"
   ]
  },
  {
   "cell_type": "code",
   "execution_count": 39,
   "metadata": {},
   "outputs": [],
   "source": [
    "results=[]\n",
    "\n",
    "for year, df_year in df.groupby('year'): \n",
    "    res={'year':year}\n",
    "    \n",
    "    listings_host = df_year['host_id'].value_counts().to_numpy()\n",
    "    \n",
    "     \n",
    "    res['gini'] = gini(listings_host)\n",
    "    \n",
    "    results.append(res)\n",
    "    \n",
    "\n",
    "    "
   ]
  },
  {
   "cell_type": "code",
   "execution_count": 50,
   "metadata": {},
   "outputs": [
    {
     "data": {
      "image/png": "[encoded data removed]",
      "text/plain": [
       "<Figure size 576x360 with 1 Axes>"
      ]
     },
     "metadata": {
      "needs_background": "light"
     },
     "output_type": "display_data"
    }
   ],
   "source": [
    "gini_df = pd.DataFrame(results).set_index('year').plot(color='black', figsize=(8,5))\n",
    "\n"
   ]
  },
  {
   "cell_type": "code",
   "execution_count": 55,
   "metadata": {},
   "outputs": [
    {
     "name": "stderr",
     "output_type": "stream",
     "text": [
      "<ipython-input-55-65bd0290a1cd>:7: FutureWarning: The default value of regex will change from True to False in a future version. In addition, single character regular expressions will *not* be treated as literal strings when regex=True.\n",
      "  df_year['price'] = df_year['price'].str.replace('$', '')\n",
      "<ipython-input-55-65bd0290a1cd>:7: FutureWarning: The default value of regex will change from True to False in a future version. In addition, single character regular expressions will *not* be treated as literal strings when regex=True.\n",
      "  df_year['price'] = df_year['price'].str.replace('$', '')\n",
      "<ipython-input-55-65bd0290a1cd>:7: FutureWarning: The default value of regex will change from True to False in a future version. In addition, single character regular expressions will *not* be treated as literal strings when regex=True.\n",
      "  df_year['price'] = df_year['price'].str.replace('$', '')\n",
      "<ipython-input-55-65bd0290a1cd>:7: FutureWarning: The default value of regex will change from True to False in a future version. In addition, single character regular expressions will *not* be treated as literal strings when regex=True.\n",
      "  df_year['price'] = df_year['price'].str.replace('$', '')\n",
      "<ipython-input-55-65bd0290a1cd>:7: FutureWarning: The default value of regex will change from True to False in a future version. In addition, single character regular expressions will *not* be treated as literal strings when regex=True.\n",
      "  df_year['price'] = df_year['price'].str.replace('$', '')\n",
      "<ipython-input-55-65bd0290a1cd>:7: FutureWarning: The default value of regex will change from True to False in a future version. In addition, single character regular expressions will *not* be treated as literal strings when regex=True.\n",
      "  df_year['price'] = df_year['price'].str.replace('$', '')\n",
      "<ipython-input-55-65bd0290a1cd>:7: FutureWarning: The default value of regex will change from True to False in a future version. In addition, single character regular expressions will *not* be treated as literal strings when regex=True.\n",
      "  df_year['price'] = df_year['price'].str.replace('$', '')\n",
      "<ipython-input-55-65bd0290a1cd>:7: FutureWarning: The default value of regex will change from True to False in a future version. In addition, single character regular expressions will *not* be treated as literal strings when regex=True.\n",
      "  df_year['price'] = df_year['price'].str.replace('$', '')\n",
      "<ipython-input-55-65bd0290a1cd>:7: FutureWarning: The default value of regex will change from True to False in a future version. In addition, single character regular expressions will *not* be treated as literal strings when regex=True.\n",
      "  df_year['price'] = df_year['price'].str.replace('$', '')\n",
      "<ipython-input-55-65bd0290a1cd>:7: FutureWarning: The default value of regex will change from True to False in a future version. In addition, single character regular expressions will *not* be treated as literal strings when regex=True.\n",
      "  df_year['price'] = df_year['price'].str.replace('$', '')\n",
      "<ipython-input-55-65bd0290a1cd>:7: FutureWarning: The default value of regex will change from True to False in a future version. In addition, single character regular expressions will *not* be treated as literal strings when regex=True.\n",
      "  df_year['price'] = df_year['price'].str.replace('$', '')\n",
      "<ipython-input-55-65bd0290a1cd>:7: FutureWarning: The default value of regex will change from True to False in a future version. In addition, single character regular expressions will *not* be treated as literal strings when regex=True.\n",
      "  df_year['price'] = df_year['price'].str.replace('$', '')\n",
      "<ipython-input-55-65bd0290a1cd>:7: FutureWarning: The default value of regex will change from True to False in a future version. In addition, single character regular expressions will *not* be treated as literal strings when regex=True.\n",
      "  df_year['price'] = df_year['price'].str.replace('$', '')\n"
     ]
    }
   ],
   "source": [
    "results=[]\n",
    "\n",
    "for year, df_year in df.groupby('year'): \n",
    "    res={'year':year}\n",
    "    \n",
    "    df_year['price'] = df_year['price'].str.replace(',', '') \n",
    "    df_year['price'] = df_year['price'].str.replace('$', '') \n",
    "    df_year['price'] = pd.to_numeric(df_year['price'])\n",
    "    \n",
    "    \n",
    "    gini_pivot = pd.pivot_table(df_year, index ='host_id', values='price',aggfunc='sum')\n",
    "    \n",
    "    \n",
    "    \n",
    "     \n",
    "    res['gini'] = gini(gini_pivot.price.tolist())\n",
    "    \n",
    "    results.append(res)\n",
    "    \n"
   ]
  },
  {
   "cell_type": "code",
   "execution_count": 56,
   "metadata": {},
   "outputs": [
    {
     "data": {
      "text/plain": [
       "<AxesSubplot:xlabel='year'>"
      ]
     },
     "execution_count": 56,
     "metadata": {},
     "output_type": "execute_result"
    },
    {
     "data": {
      "image/png": "[encoded data removed]",
      "text/plain": [
       "<Figure size 576x360 with 1 Axes>"
      ]
     },
     "metadata": {
      "needs_background": "light"
     },
     "output_type": "display_data"
    }
   ],
   "source": [
    "pd.DataFrame(results).set_index('year').plot(color='black', figsize=(8,5))\n"
   ]
  },
  {
   "cell_type": "code",
   "execution_count": 62,
   "metadata": {},
   "outputs": [],
   "source": [
    "results=[]\n",
    "\n",
    "for year, df_year in df.groupby('year'): \n",
    "    res={'year':year}\n",
    "    \n",
    "\n",
    "    gini_pivot = pd.pivot_table(df_year, index ='host_id', values='listing_id',aggfunc=len)\n",
    "    \n",
    "    \n",
    "    \n",
    "     \n",
    "    res['gini'] = gini(gini_pivot.listing_id.tolist())\n",
    "    \n",
    "    results.append(res)"
   ]
  },
  {
   "cell_type": "code",
   "execution_count": 64,
   "metadata": {},
   "outputs": [
    {
     "data": {
      "text/plain": [
       "<AxesSubplot:xlabel='year'>"
      ]
     },
     "execution_count": 64,
     "metadata": {},
     "output_type": "execute_result"
    },
    {
     "data": {
      "image/png": "[encoded data removed]",
      "text/plain": [
       "<Figure size 576x360 with 1 Axes>"
      ]
     },
     "metadata": {
      "needs_background": "light"
     },
     "output_type": "display_data"
    }
   ],
   "source": [
    "pd.DataFrame(results).set_index('year').plot(color='black', figsize=(8,5))"
   ]
  },
  {
   "cell_type": "code",
   "execution_count": 28,
   "metadata": {},
   "outputs": [
    {
     "data": {
      "text/plain": [
       "array([0.63696169, 0.26978671, 0.04097352, 0.01652764, 0.81327024,\n",
       "       0.91275558, 0.60663578, 0.72949656, 0.54362499, 0.93507242,\n",
       "       0.81585355, 0.0027385 , 0.85740428, 0.03358558, 0.72965545,\n",
       "       0.17565562, 0.86317892, 0.54146122, 0.29971189, 0.42268722,\n",
       "       0.02831967, 0.12428328, 0.67062441, 0.64718951, 0.61538511,\n",
       "       0.38367755, 0.99720994, 0.98083534, 0.68554198, 0.65045928,\n",
       "       0.68844673, 0.38892142, 0.13509651, 0.72148834, 0.52535432,\n",
       "       0.31024188, 0.48583536, 0.88948783, 0.93404352, 0.3577952 ,\n",
       "       0.57152983, 0.32186939, 0.59430003, 0.33791123, 0.391619  ,\n",
       "       0.89027435, 0.22715759, 0.62318714, 0.08401534, 0.83264415,\n",
       "       0.78709831, 0.23936944, 0.87648423, 0.05856803, 0.33611706,\n",
       "       0.15027947, 0.45033937, 0.79632427, 0.23064221, 0.0520213 ,\n",
       "       0.40455184, 0.19851304, 0.09075305, 0.58033239, 0.29869613,\n",
       "       0.67199488, 0.19951544, 0.94211311, 0.36511017, 0.10549528,\n",
       "       0.62910815, 0.92715455, 0.44037715, 0.95459049, 0.49989581,\n",
       "       0.42522862, 0.62021345, 0.99509651, 0.94894367, 0.46004514,\n",
       "       0.75772885, 0.4974227 , 0.52931216, 0.7857857 , 0.41465585,\n",
       "       0.73448357, 0.71114288, 0.93205969, 0.11493263, 0.72901512,\n",
       "       0.92742393, 0.96792619, 0.0147063 , 0.86364009, 0.98119504,\n",
       "       0.95721018, 0.14876401, 0.97262881, 0.88993556, 0.82237383])"
      ]
     },
     "execution_count": 28,
     "metadata": {},
     "output_type": "execute_result"
    }
   ],
   "source": [
    "A"
   ]
  },
  {
   "cell_type": "code",
   "execution_count": null,
   "metadata": {},
   "outputs": [],
   "source": []
  }
 ],
 "metadata": {
  "kernelspec": {
   "display_name": "Python 3 (ipykernel)",
   "language": "python",
   "name": "python3"
  },
  "language_info": {
   "codemirror_mode": {
    "name": "ipython",
    "version": 3
   },
   "file_extension": ".py",
   "mimetype": "text/x-python",
   "name": "python",
   "nbconvert_exporter": "python",
   "pygments_lexer": "ipython3",
   "version": "3.9.7"
  }
 },
 "nbformat": 4,
 "nbformat_minor": 4
}
