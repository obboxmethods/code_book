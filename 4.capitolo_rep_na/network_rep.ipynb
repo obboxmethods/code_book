{
 "cells": [
  {
   "cell_type": "code",
   "execution_count": 1,
   "id": "9bc7ed39",
   "metadata": {},
   "outputs": [],
   "source": [
    "import pandas as pd\n",
    "import numpy as np \n",
    "import re\n",
    "import networkx as nx \n",
    "from community import community_louvain"
   ]
  },
  {
   "cell_type": "code",
   "execution_count": 2,
   "id": "d1e8c60f",
   "metadata": {},
   "outputs": [],
   "source": [
    "def find_rt(text): \n",
    "    try: \n",
    "        res  = re.search( r'(?<=RT \\@)[A-Za-z0-9_]+',text )\n",
    "    except: \n",
    "        return np.nan\n",
    "    if res is not None: \n",
    "        return res.group(0)\n",
    "    else: \n",
    "        return np.nan\n",
    "    \n",
    "def centralization(G):\n",
    "    alln=G.order()\n",
    "    degr_list = [e[1] for e in list(G.degree())]\n",
    "    indegr_max = max(degr_list)\n",
    "    centralization = float((alln*indegr_max - sum(degr_list)))/(alln-1)**2\n",
    "    return centralization"
   ]
  },
  {
   "cell_type": "code",
   "execution_count": 3,
   "id": "1507d62e",
   "metadata": {},
   "outputs": [],
   "source": [
    "#df = pd.read_csv('/mnt/mass_drive/Dropbox/Dropbox/Momolbox/paper/dmo_comparative/data/kenoshashooting_en.csv')\n",
    "df = pd.read_csv('/mnt/mass_drive/Dropbox/Dropbox/Momolbox/paper/dmo_comparative/data/kenoshashooting_en.csv')"
   ]
  },
  {
   "cell_type": "code",
   "execution_count": 4,
   "id": "c2cd72c6",
   "metadata": {},
   "outputs": [
    {
     "data": {
      "text/plain": [
       "Index(['author_id', 'created_at', 'text', 'geo', 'lang', 'public_metrics',\n",
       "       'id', 'user_scr_name', 'username', 'retweeted_status', 'reply_count',\n",
       "       'quote_count', 'like_count'],\n",
       "      dtype='object')"
      ]
     },
     "execution_count": 4,
     "metadata": {},
     "output_type": "execute_result"
    }
   ],
   "source": [
    "df.columns"
   ]
  },
  {
   "cell_type": "code",
   "execution_count": 5,
   "id": "280ca1d7",
   "metadata": {},
   "outputs": [],
   "source": [
    "df['rt_author'] = df['text'].apply(find_rt)"
   ]
  },
  {
   "cell_type": "code",
   "execution_count": 6,
   "id": "2467bf94",
   "metadata": {},
   "outputs": [],
   "source": [
    "df['date'] = pd.to_datetime(df['created_at'])"
   ]
  },
  {
   "cell_type": "code",
   "execution_count": 7,
   "id": "330b3b27",
   "metadata": {},
   "outputs": [],
   "source": [
    "df['rt_author'] = df['text'].apply(find_rt)"
   ]
  },
  {
   "cell_type": "code",
   "execution_count": 8,
   "id": "fe3c6be7",
   "metadata": {},
   "outputs": [
    {
     "data": {
      "text/plain": [
       "Index(['author_id', 'created_at', 'text', 'geo', 'lang', 'public_metrics',\n",
       "       'id', 'user_scr_name', 'username', 'retweeted_status', 'reply_count',\n",
       "       'quote_count', 'like_count', 'rt_author', 'date'],\n",
       "      dtype='object')"
      ]
     },
     "execution_count": 8,
     "metadata": {},
     "output_type": "execute_result"
    }
   ],
   "source": [
    "df.columns"
   ]
  },
  {
   "cell_type": "markdown",
   "id": "72304776",
   "metadata": {},
   "source": [
    "## network construction "
   ]
  },
  {
   "cell_type": "code",
   "execution_count": 9,
   "id": "869e3c46",
   "metadata": {},
   "outputs": [],
   "source": [
    "edges=[list(r) for r in df[['user_scr_name', 'rt_author']].to_numpy()]\n",
    "    \n",
    "\n",
    "G=nx.Graph()\n",
    "for edge in edges: \n",
    "        G.add_edge(edge[0],edge[1])"
   ]
  },
  {
   "cell_type": "code",
   "execution_count": 10,
   "id": "d86bc6c0",
   "metadata": {},
   "outputs": [],
   "source": [
    "Gd = nx.DiGraph()\n",
    "for edge in edges: \n",
    "        Gd.add_edge(edge[0],edge[1])"
   ]
  },
  {
   "cell_type": "markdown",
   "id": "550f3308",
   "metadata": {},
   "source": [
    "## node attributes"
   ]
  },
  {
   "cell_type": "code",
   "execution_count": 11,
   "id": "ddab82bf",
   "metadata": {},
   "outputs": [],
   "source": [
    "#inserirebetwenness centrality etc"
   ]
  },
  {
   "cell_type": "code",
   "execution_count": 12,
   "id": "9e8d6462",
   "metadata": {},
   "outputs": [],
   "source": [
    "degrees_df = pd.DataFrame(list(Gd.in_degree()))\n",
    "    \n",
    "\n",
    "  \n",
    "od = [int(o[1]) for o in  list(Gd.out_degree())]\n",
    "    \n",
    "degrees_df['outdegree'] = od\n",
    "degrees_df.fillna(0,inplace=True)\n",
    "degrees_df.rename(columns={0:'username',1:'indegree'},inplace=True)"
   ]
  },
  {
   "cell_type": "code",
   "execution_count": 13,
   "id": "c8cc5b09",
   "metadata": {},
   "outputs": [
    {
     "data": {
      "text/html": [
       "<div>\n",
       "<style scoped>\n",
       "    .dataframe tbody tr th:only-of-type {\n",
       "        vertical-align: middle;\n",
       "    }\n",
       "\n",
       "    .dataframe tbody tr th {\n",
       "        vertical-align: top;\n",
       "    }\n",
       "\n",
       "    .dataframe thead th {\n",
       "        text-align: right;\n",
       "    }\n",
       "</style>\n",
       "<table border=\"1\" class=\"dataframe\">\n",
       "  <thead>\n",
       "    <tr style=\"text-align: right;\">\n",
       "      <th></th>\n",
       "      <th>username</th>\n",
       "      <th>indegree</th>\n",
       "      <th>outdegree</th>\n",
       "    </tr>\n",
       "  </thead>\n",
       "  <tbody>\n",
       "    <tr>\n",
       "      <th>0</th>\n",
       "      <td>PharmacyCrystal</td>\n",
       "      <td>0</td>\n",
       "      <td>1</td>\n",
       "    </tr>\n",
       "    <tr>\n",
       "      <th>1</th>\n",
       "      <td>wisconsin_now</td>\n",
       "      <td>8</td>\n",
       "      <td>1</td>\n",
       "    </tr>\n",
       "    <tr>\n",
       "      <th>2</th>\n",
       "      <td>MfolTorrance</td>\n",
       "      <td>0</td>\n",
       "      <td>1</td>\n",
       "    </tr>\n",
       "    <tr>\n",
       "      <th>3</th>\n",
       "      <td>po_murray</td>\n",
       "      <td>6</td>\n",
       "      <td>2</td>\n",
       "    </tr>\n",
       "    <tr>\n",
       "      <th>4</th>\n",
       "      <td>JJHobbs12</td>\n",
       "      <td>0</td>\n",
       "      <td>1</td>\n",
       "    </tr>\n",
       "    <tr>\n",
       "      <th>...</th>\n",
       "      <td>...</td>\n",
       "      <td>...</td>\n",
       "      <td>...</td>\n",
       "    </tr>\n",
       "    <tr>\n",
       "      <th>35459</th>\n",
       "      <td>katylied67</td>\n",
       "      <td>0</td>\n",
       "      <td>1</td>\n",
       "    </tr>\n",
       "    <tr>\n",
       "      <th>35460</th>\n",
       "      <td>Sonia_hm04</td>\n",
       "      <td>0</td>\n",
       "      <td>1</td>\n",
       "    </tr>\n",
       "    <tr>\n",
       "      <th>35461</th>\n",
       "      <td>Sunsplashsun</td>\n",
       "      <td>0</td>\n",
       "      <td>1</td>\n",
       "    </tr>\n",
       "    <tr>\n",
       "      <th>35462</th>\n",
       "      <td>MICAMARADAELCHE</td>\n",
       "      <td>0</td>\n",
       "      <td>1</td>\n",
       "    </tr>\n",
       "    <tr>\n",
       "      <th>35463</th>\n",
       "      <td>lisalisa365</td>\n",
       "      <td>0</td>\n",
       "      <td>1</td>\n",
       "    </tr>\n",
       "  </tbody>\n",
       "</table>\n",
       "<p>35464 rows × 3 columns</p>\n",
       "</div>"
      ],
      "text/plain": [
       "              username  indegree  outdegree\n",
       "0      PharmacyCrystal         0          1\n",
       "1        wisconsin_now         8          1\n",
       "2         MfolTorrance         0          1\n",
       "3            po_murray         6          2\n",
       "4            JJHobbs12         0          1\n",
       "...                ...       ...        ...\n",
       "35459       katylied67         0          1\n",
       "35460       Sonia_hm04         0          1\n",
       "35461     Sunsplashsun         0          1\n",
       "35462  MICAMARADAELCHE         0          1\n",
       "35463      lisalisa365         0          1\n",
       "\n",
       "[35464 rows x 3 columns]"
      ]
     },
     "execution_count": 13,
     "metadata": {},
     "output_type": "execute_result"
    }
   ],
   "source": [
    "degrees_df"
   ]
  },
  {
   "cell_type": "code",
   "execution_count": 14,
   "id": "718c87d5",
   "metadata": {},
   "outputs": [],
   "source": [
    "part = community_louvain.best_partition(G)"
   ]
  },
  {
   "cell_type": "code",
   "execution_count": 15,
   "id": "7d60ef00",
   "metadata": {},
   "outputs": [],
   "source": [
    "communities =pd.DataFrame.from_dict(part,orient='index', columns=['community'])"
   ]
  },
  {
   "cell_type": "code",
   "execution_count": 16,
   "id": "62b838ae",
   "metadata": {},
   "outputs": [],
   "source": [
    "communities.reset_index(inplace=True)#\n"
   ]
  },
  {
   "cell_type": "code",
   "execution_count": 17,
   "id": "615f8277",
   "metadata": {},
   "outputs": [],
   "source": [
    "communities.rename(columns={'index':'username'},inplace=True) "
   ]
  },
  {
   "cell_type": "code",
   "execution_count": 18,
   "id": "93e83365",
   "metadata": {},
   "outputs": [
    {
     "data": {
      "text/html": [
       "<div>\n",
       "<style scoped>\n",
       "    .dataframe tbody tr th:only-of-type {\n",
       "        vertical-align: middle;\n",
       "    }\n",
       "\n",
       "    .dataframe tbody tr th {\n",
       "        vertical-align: top;\n",
       "    }\n",
       "\n",
       "    .dataframe thead th {\n",
       "        text-align: right;\n",
       "    }\n",
       "</style>\n",
       "<table border=\"1\" class=\"dataframe\">\n",
       "  <thead>\n",
       "    <tr style=\"text-align: right;\">\n",
       "      <th></th>\n",
       "      <th>username</th>\n",
       "      <th>community</th>\n",
       "    </tr>\n",
       "  </thead>\n",
       "  <tbody>\n",
       "    <tr>\n",
       "      <th>0</th>\n",
       "      <td>PharmacyCrystal</td>\n",
       "      <td>0</td>\n",
       "    </tr>\n",
       "    <tr>\n",
       "      <th>1</th>\n",
       "      <td>wisconsin_now</td>\n",
       "      <td>0</td>\n",
       "    </tr>\n",
       "    <tr>\n",
       "      <th>2</th>\n",
       "      <td>MfolTorrance</td>\n",
       "      <td>1</td>\n",
       "    </tr>\n",
       "    <tr>\n",
       "      <th>3</th>\n",
       "      <td>po_murray</td>\n",
       "      <td>1</td>\n",
       "    </tr>\n",
       "    <tr>\n",
       "      <th>4</th>\n",
       "      <td>JJHobbs12</td>\n",
       "      <td>72</td>\n",
       "    </tr>\n",
       "    <tr>\n",
       "      <th>...</th>\n",
       "      <td>...</td>\n",
       "      <td>...</td>\n",
       "    </tr>\n",
       "    <tr>\n",
       "      <th>35459</th>\n",
       "      <td>katylied67</td>\n",
       "      <td>88</td>\n",
       "    </tr>\n",
       "    <tr>\n",
       "      <th>35460</th>\n",
       "      <td>Sonia_hm04</td>\n",
       "      <td>46</td>\n",
       "    </tr>\n",
       "    <tr>\n",
       "      <th>35461</th>\n",
       "      <td>Sunsplashsun</td>\n",
       "      <td>72</td>\n",
       "    </tr>\n",
       "    <tr>\n",
       "      <th>35462</th>\n",
       "      <td>MICAMARADAELCHE</td>\n",
       "      <td>46</td>\n",
       "    </tr>\n",
       "    <tr>\n",
       "      <th>35463</th>\n",
       "      <td>lisalisa365</td>\n",
       "      <td>276</td>\n",
       "    </tr>\n",
       "  </tbody>\n",
       "</table>\n",
       "<p>35464 rows × 2 columns</p>\n",
       "</div>"
      ],
      "text/plain": [
       "              username  community\n",
       "0      PharmacyCrystal          0\n",
       "1        wisconsin_now          0\n",
       "2         MfolTorrance          1\n",
       "3            po_murray          1\n",
       "4            JJHobbs12         72\n",
       "...                ...        ...\n",
       "35459       katylied67         88\n",
       "35460       Sonia_hm04         46\n",
       "35461     Sunsplashsun         72\n",
       "35462  MICAMARADAELCHE         46\n",
       "35463      lisalisa365        276\n",
       "\n",
       "[35464 rows x 2 columns]"
      ]
     },
     "execution_count": 18,
     "metadata": {},
     "output_type": "execute_result"
    }
   ],
   "source": [
    "communities"
   ]
  },
  {
   "cell_type": "code",
   "execution_count": 19,
   "id": "5e2fc545",
   "metadata": {},
   "outputs": [],
   "source": [
    "node_attrs_df = pd.merge(degrees_df,communities, left_on='username',right_on='username')"
   ]
  },
  {
   "cell_type": "code",
   "execution_count": 20,
   "id": "f821a39f",
   "metadata": {},
   "outputs": [
    {
     "data": {
      "text/html": [
       "<div>\n",
       "<style scoped>\n",
       "    .dataframe tbody tr th:only-of-type {\n",
       "        vertical-align: middle;\n",
       "    }\n",
       "\n",
       "    .dataframe tbody tr th {\n",
       "        vertical-align: top;\n",
       "    }\n",
       "\n",
       "    .dataframe thead th {\n",
       "        text-align: right;\n",
       "    }\n",
       "</style>\n",
       "<table border=\"1\" class=\"dataframe\">\n",
       "  <thead>\n",
       "    <tr style=\"text-align: right;\">\n",
       "      <th></th>\n",
       "      <th>username</th>\n",
       "      <th>indegree</th>\n",
       "      <th>outdegree</th>\n",
       "      <th>community</th>\n",
       "    </tr>\n",
       "  </thead>\n",
       "  <tbody>\n",
       "    <tr>\n",
       "      <th>0</th>\n",
       "      <td>PharmacyCrystal</td>\n",
       "      <td>0</td>\n",
       "      <td>1</td>\n",
       "      <td>0</td>\n",
       "    </tr>\n",
       "    <tr>\n",
       "      <th>1</th>\n",
       "      <td>wisconsin_now</td>\n",
       "      <td>8</td>\n",
       "      <td>1</td>\n",
       "      <td>0</td>\n",
       "    </tr>\n",
       "    <tr>\n",
       "      <th>2</th>\n",
       "      <td>MfolTorrance</td>\n",
       "      <td>0</td>\n",
       "      <td>1</td>\n",
       "      <td>1</td>\n",
       "    </tr>\n",
       "    <tr>\n",
       "      <th>3</th>\n",
       "      <td>po_murray</td>\n",
       "      <td>6</td>\n",
       "      <td>2</td>\n",
       "      <td>1</td>\n",
       "    </tr>\n",
       "    <tr>\n",
       "      <th>4</th>\n",
       "      <td>JJHobbs12</td>\n",
       "      <td>0</td>\n",
       "      <td>1</td>\n",
       "      <td>72</td>\n",
       "    </tr>\n",
       "    <tr>\n",
       "      <th>...</th>\n",
       "      <td>...</td>\n",
       "      <td>...</td>\n",
       "      <td>...</td>\n",
       "      <td>...</td>\n",
       "    </tr>\n",
       "    <tr>\n",
       "      <th>35458</th>\n",
       "      <td>katylied67</td>\n",
       "      <td>0</td>\n",
       "      <td>1</td>\n",
       "      <td>88</td>\n",
       "    </tr>\n",
       "    <tr>\n",
       "      <th>35459</th>\n",
       "      <td>Sonia_hm04</td>\n",
       "      <td>0</td>\n",
       "      <td>1</td>\n",
       "      <td>46</td>\n",
       "    </tr>\n",
       "    <tr>\n",
       "      <th>35460</th>\n",
       "      <td>Sunsplashsun</td>\n",
       "      <td>0</td>\n",
       "      <td>1</td>\n",
       "      <td>72</td>\n",
       "    </tr>\n",
       "    <tr>\n",
       "      <th>35461</th>\n",
       "      <td>MICAMARADAELCHE</td>\n",
       "      <td>0</td>\n",
       "      <td>1</td>\n",
       "      <td>46</td>\n",
       "    </tr>\n",
       "    <tr>\n",
       "      <th>35462</th>\n",
       "      <td>lisalisa365</td>\n",
       "      <td>0</td>\n",
       "      <td>1</td>\n",
       "      <td>276</td>\n",
       "    </tr>\n",
       "  </tbody>\n",
       "</table>\n",
       "<p>35463 rows × 4 columns</p>\n",
       "</div>"
      ],
      "text/plain": [
       "              username  indegree  outdegree  community\n",
       "0      PharmacyCrystal         0          1          0\n",
       "1        wisconsin_now         8          1          0\n",
       "2         MfolTorrance         0          1          1\n",
       "3            po_murray         6          2          1\n",
       "4            JJHobbs12         0          1         72\n",
       "...                ...       ...        ...        ...\n",
       "35458       katylied67         0          1         88\n",
       "35459       Sonia_hm04         0          1         46\n",
       "35460     Sunsplashsun         0          1         72\n",
       "35461  MICAMARADAELCHE         0          1         46\n",
       "35462      lisalisa365         0          1        276\n",
       "\n",
       "[35463 rows x 4 columns]"
      ]
     },
     "execution_count": 20,
     "metadata": {},
     "output_type": "execute_result"
    }
   ],
   "source": [
    "node_attrs_df"
   ]
  },
  {
   "cell_type": "code",
   "execution_count": 21,
   "id": "257bc35f",
   "metadata": {},
   "outputs": [
    {
     "data": {
      "text/plain": [
       "27     6937\n",
       "72     6455\n",
       "14     1857\n",
       "12     1607\n",
       "48     1408\n",
       "       ... \n",
       "57        2\n",
       "318       1\n",
       "315       1\n",
       "302       1\n",
       "303       1\n",
       "Name: community, Length: 319, dtype: int64"
      ]
     },
     "execution_count": 21,
     "metadata": {},
     "output_type": "execute_result"
    }
   ],
   "source": [
    "communities.community.value_counts()"
   ]
  },
  {
   "cell_type": "code",
   "execution_count": 22,
   "id": "fb57aa51",
   "metadata": {},
   "outputs": [
    {
     "data": {
      "text/plain": [
       "[27, 72, 14, 12, 48]"
      ]
     },
     "execution_count": 22,
     "metadata": {},
     "output_type": "execute_result"
    }
   ],
   "source": [
    "top_5_communities  = communities.community.value_counts().head(5).index.tolist()#.reset_index().community.tolist()\n",
    "top_5_communities"
   ]
  },
  {
   "cell_type": "code",
   "execution_count": 23,
   "id": "c0b50298",
   "metadata": {},
   "outputs": [
    {
     "name": "stdout",
     "output_type": "stream",
     "text": [
      "              username  indegree  outdegree  community\n",
      "279     davidmweissman      7952          2         27\n",
      "21966     amylmiller12         2          0         27\n",
      "17300    Mel4Americans         2          1         27\n",
      "8529       YesYesBooks         2          1         27\n",
      "12514  TylerBlackwell4         1          0         27\n",
      "10951       wolffe2020         1          2         27\n",
      "18694          cocozoe         0          1         27\n",
      "18693  sistersunshine6         0          1         27\n",
      "18727       Krazy4feet         0          1         27\n",
      "18724  DefiantGuerilla         0          1         27\n",
      "              username  indegree  outdegree  community\n",
      "33825        MAGAThing         5          2         72\n",
      "11814     JoshMargolin         4          1         72\n",
      "1007     RonaldTooTall         4          1         72\n",
      "9131    SorrentinoSean         3          1         72\n",
      "11241    WeirwoodRaven         3          1         72\n",
      "8834    DissonantSubLT         3          1         72\n",
      "8821   SkipToTheLou314         3          0         72\n",
      "64      TrumplovesISIS         3          1         72\n",
      "25541   MorrisonMMusic         3          1         72\n",
      "25371    RogowskiBubba         3          1         72\n",
      "              username  indegree  outdegree  community\n",
      "95         TalbertSwan      2039          3         14\n",
      "23665     NotAgainYall         7          1         14\n",
      "4177    daisykpgardner         4          1         14\n",
      "5085               d2k         3          1         14\n",
      "9283     BranchCom2001         2          1         14\n",
      "29013   WarWitMyself19         2          1         14\n",
      "27328  CRobertBuchanan         2          1         14\n",
      "14630    TheSpeedSnail         2          2         14\n",
      "5247           lsthart         1          2         14\n",
      "1549   SarahSEnglishUS         1          1         14\n",
      "              username  indegree  outdegree  community\n",
      "73        DemocracyInn      1777          2         12\n",
      "26947       JuliIndica         4          1         12\n",
      "572       GuignolsBand         4          1         12\n",
      "8812      NastyRIWoman         4          0         12\n",
      "16550  miketheidealist         3          1         12\n",
      "5778    TheValtainRose         2          0         12\n",
      "952     hollywoodcurry         2          1         12\n",
      "4388         JJstevieo         2          1         12\n",
      "1628      thecamlewis1         1          0         12\n",
      "3644         hippyniki         1          4         12\n",
      "             username  indegree  outdegree  community\n",
      "549     tuanstpatrick      1518          0         48\n",
      "2033    KrauseForIowa        11          2         48\n",
      "1098     BuddyWinston         9          1         48\n",
      "5324   JosephMagellan         8          3         48\n",
      "7609         NOSTRAYZ         1          1         48\n",
      "32680    JeremyWard33         1          1         48\n",
      "31656           ikoo1         1          1         48\n",
      "6571   PotempkinBrain         1          2         48\n",
      "14392         CWevill         1          1         48\n",
      "30755  Soul_Scribbles         0          1         48\n"
     ]
    }
   ],
   "source": [
    "for comm in top_5_communities: \n",
    "    community_df = node_attrs_df[node_attrs_df['community']==comm]\n",
    "    print(community_df.sort_values(by='indegree',ascending=False).head(10))"
   ]
  },
  {
   "cell_type": "code",
   "execution_count": 24,
   "id": "ade31e14",
   "metadata": {},
   "outputs": [],
   "source": [
    "## graph level measures"
   ]
  },
  {
   "cell_type": "code",
   "execution_count": 25,
   "id": "96f67f69",
   "metadata": {},
   "outputs": [],
   "source": [
    "mod=community_louvain.modularity(part,G)\n",
    "dens = nx.density(G)\n",
    "centr= centralization(G)"
   ]
  },
  {
   "cell_type": "code",
   "execution_count": 26,
   "id": "477c0aed",
   "metadata": {},
   "outputs": [
    {
     "data": {
      "text/plain": [
       "0.8293686734541768"
      ]
     },
     "execution_count": 26,
     "metadata": {},
     "output_type": "execute_result"
    }
   ],
   "source": [
    "mod"
   ]
  },
  {
   "cell_type": "code",
   "execution_count": 27,
   "id": "a94e3171",
   "metadata": {},
   "outputs": [
    {
     "data": {
      "text/plain": [
       "6.19181737530439e-05"
      ]
     },
     "execution_count": 27,
     "metadata": {},
     "output_type": "execute_result"
    }
   ],
   "source": [
    "dens"
   ]
  },
  {
   "cell_type": "code",
   "execution_count": 28,
   "id": "25c611a0",
   "metadata": {},
   "outputs": [
    {
     "data": {
      "text/plain": [
       "0.2242345098832925"
      ]
     },
     "execution_count": 28,
     "metadata": {},
     "output_type": "execute_result"
    }
   ],
   "source": [
    "centr"
   ]
  },
  {
   "cell_type": "code",
   "execution_count": 30,
   "id": "59bc9205",
   "metadata": {},
   "outputs": [
    {
     "ename": "AttributeError",
     "evalue": "'Graph' object has no attribute 'betwenness_centrality'",
     "output_type": "error",
     "traceback": [
      "\u001b[0;31m---------------------------------------------------------------------------\u001b[0m",
      "\u001b[0;31mAttributeError\u001b[0m                            Traceback (most recent call last)",
      "\u001b[0;32m<ipython-input-30-4fb05b54a69b>\u001b[0m in \u001b[0;36m<module>\u001b[0;34m\u001b[0m\n\u001b[0;32m----> 1\u001b[0;31m \u001b[0mbc\u001b[0m \u001b[0;34m=\u001b[0m \u001b[0;34m[\u001b[0m\u001b[0mint\u001b[0m\u001b[0;34m(\u001b[0m\u001b[0mbc\u001b[0m\u001b[0;34m[\u001b[0m\u001b[0;36m1\u001b[0m\u001b[0;34m]\u001b[0m\u001b[0;34m)\u001b[0m \u001b[0;32mfor\u001b[0m \u001b[0mbc\u001b[0m \u001b[0;32min\u001b[0m  \u001b[0mlist\u001b[0m\u001b[0;34m(\u001b[0m\u001b[0mG\u001b[0m\u001b[0;34m.\u001b[0m\u001b[0mbetwenness_centrality\u001b[0m\u001b[0;34m(\u001b[0m\u001b[0;34m)\u001b[0m\u001b[0;34m)\u001b[0m\u001b[0;34m]\u001b[0m\u001b[0;34m\u001b[0m\u001b[0;34m\u001b[0m\u001b[0m\n\u001b[0m",
      "\u001b[0;31mAttributeError\u001b[0m: 'Graph' object has no attribute 'betwenness_centrality'"
     ]
    }
   ],
   "source": [
    "bc = [int(bc[1]) for bc in  list(nx.betwenness_centrality())]"
   ]
  },
  {
   "cell_type": "code",
   "execution_count": 32,
   "id": "5c0a5aea",
   "metadata": {},
   "outputs": [
    {
     "ename": "KeyboardInterrupt",
     "evalue": "",
     "output_type": "error",
     "traceback": [
      "\u001b[0;31m---------------------------------------------------------------------------\u001b[0m",
      "\u001b[0;31mKeyboardInterrupt\u001b[0m                         Traceback (most recent call last)",
      "\u001b[0;32m<ipython-input-32-0472f143feb7>\u001b[0m in \u001b[0;36m<module>\u001b[0;34m\u001b[0m\n\u001b[0;32m----> 1\u001b[0;31m \u001b[0mnx\u001b[0m\u001b[0;34m.\u001b[0m\u001b[0mbetweenness_centrality\u001b[0m\u001b[0;34m(\u001b[0m\u001b[0mG\u001b[0m\u001b[0;34m)\u001b[0m\u001b[0;34m\u001b[0m\u001b[0;34m\u001b[0m\u001b[0m\n\u001b[0m",
      "\u001b[0;32m<decorator-gen-240>\u001b[0m in \u001b[0;36mbetweenness_centrality\u001b[0;34m(G, k, normalized, weight, endpoints, seed)\u001b[0m\n",
      "\u001b[0;32m~/anaconda3/lib/python3.8/site-packages/networkx/utils/decorators.py\u001b[0m in \u001b[0;36m_random_state\u001b[0;34m(func, *args, **kwargs)\u001b[0m\n\u001b[1;32m    467\u001b[0m         \u001b[0mnew_args\u001b[0m \u001b[0;34m=\u001b[0m \u001b[0mlist\u001b[0m\u001b[0;34m(\u001b[0m\u001b[0margs\u001b[0m\u001b[0;34m)\u001b[0m\u001b[0;34m\u001b[0m\u001b[0;34m\u001b[0m\u001b[0m\n\u001b[1;32m    468\u001b[0m         \u001b[0mnew_args\u001b[0m\u001b[0;34m[\u001b[0m\u001b[0mrandom_state_index\u001b[0m\u001b[0;34m]\u001b[0m \u001b[0;34m=\u001b[0m \u001b[0mrandom_state\u001b[0m\u001b[0;34m\u001b[0m\u001b[0;34m\u001b[0m\u001b[0m\n\u001b[0;32m--> 469\u001b[0;31m         \u001b[0;32mreturn\u001b[0m \u001b[0mfunc\u001b[0m\u001b[0;34m(\u001b[0m\u001b[0;34m*\u001b[0m\u001b[0mnew_args\u001b[0m\u001b[0;34m,\u001b[0m \u001b[0;34m**\u001b[0m\u001b[0mkwargs\u001b[0m\u001b[0;34m)\u001b[0m\u001b[0;34m\u001b[0m\u001b[0;34m\u001b[0m\u001b[0m\n\u001b[0m\u001b[1;32m    470\u001b[0m \u001b[0;34m\u001b[0m\u001b[0m\n\u001b[1;32m    471\u001b[0m     \u001b[0;32mreturn\u001b[0m \u001b[0m_random_state\u001b[0m\u001b[0;34m\u001b[0m\u001b[0;34m\u001b[0m\u001b[0m\n",
      "\u001b[0;32m<decorator-gen-239>\u001b[0m in \u001b[0;36mbetweenness_centrality\u001b[0;34m(G, k, normalized, weight, endpoints, seed)\u001b[0m\n",
      "\u001b[0;32m~/anaconda3/lib/python3.8/site-packages/networkx/utils/decorators.py\u001b[0m in \u001b[0;36m_not_implemented_for\u001b[0;34m(not_implement_for_func, *args, **kwargs)\u001b[0m\n\u001b[1;32m     76\u001b[0m             \u001b[0;32mraise\u001b[0m \u001b[0mnx\u001b[0m\u001b[0;34m.\u001b[0m\u001b[0mNetworkXNotImplemented\u001b[0m\u001b[0;34m(\u001b[0m\u001b[0mmsg\u001b[0m\u001b[0;34m)\u001b[0m\u001b[0;34m\u001b[0m\u001b[0;34m\u001b[0m\u001b[0m\n\u001b[1;32m     77\u001b[0m         \u001b[0;32melse\u001b[0m\u001b[0;34m:\u001b[0m\u001b[0;34m\u001b[0m\u001b[0;34m\u001b[0m\u001b[0m\n\u001b[0;32m---> 78\u001b[0;31m             \u001b[0;32mreturn\u001b[0m \u001b[0mnot_implement_for_func\u001b[0m\u001b[0;34m(\u001b[0m\u001b[0;34m*\u001b[0m\u001b[0margs\u001b[0m\u001b[0;34m,\u001b[0m \u001b[0;34m**\u001b[0m\u001b[0mkwargs\u001b[0m\u001b[0;34m)\u001b[0m\u001b[0;34m\u001b[0m\u001b[0;34m\u001b[0m\u001b[0m\n\u001b[0m\u001b[1;32m     79\u001b[0m \u001b[0;34m\u001b[0m\u001b[0m\n\u001b[1;32m     80\u001b[0m     \u001b[0;32mreturn\u001b[0m \u001b[0m_not_implemented_for\u001b[0m\u001b[0;34m\u001b[0m\u001b[0;34m\u001b[0m\u001b[0m\n",
      "\u001b[0;32m~/anaconda3/lib/python3.8/site-packages/networkx/algorithms/centrality/betweenness.py\u001b[0m in \u001b[0;36mbetweenness_centrality\u001b[0;34m(G, k, normalized, weight, endpoints, seed)\u001b[0m\n\u001b[1;32m    125\u001b[0m         \u001b[0;31m# single source shortest paths\u001b[0m\u001b[0;34m\u001b[0m\u001b[0;34m\u001b[0m\u001b[0;34m\u001b[0m\u001b[0m\n\u001b[1;32m    126\u001b[0m         \u001b[0;32mif\u001b[0m \u001b[0mweight\u001b[0m \u001b[0;32mis\u001b[0m \u001b[0;32mNone\u001b[0m\u001b[0;34m:\u001b[0m  \u001b[0;31m# use BFS\u001b[0m\u001b[0;34m\u001b[0m\u001b[0;34m\u001b[0m\u001b[0m\n\u001b[0;32m--> 127\u001b[0;31m             \u001b[0mS\u001b[0m\u001b[0;34m,\u001b[0m \u001b[0mP\u001b[0m\u001b[0;34m,\u001b[0m \u001b[0msigma\u001b[0m \u001b[0;34m=\u001b[0m \u001b[0m_single_source_shortest_path_basic\u001b[0m\u001b[0;34m(\u001b[0m\u001b[0mG\u001b[0m\u001b[0;34m,\u001b[0m \u001b[0ms\u001b[0m\u001b[0;34m)\u001b[0m\u001b[0;34m\u001b[0m\u001b[0;34m\u001b[0m\u001b[0m\n\u001b[0m\u001b[1;32m    128\u001b[0m         \u001b[0;32melse\u001b[0m\u001b[0;34m:\u001b[0m  \u001b[0;31m# use Dijkstra's algorithm\u001b[0m\u001b[0;34m\u001b[0m\u001b[0;34m\u001b[0m\u001b[0m\n\u001b[1;32m    129\u001b[0m             \u001b[0mS\u001b[0m\u001b[0;34m,\u001b[0m \u001b[0mP\u001b[0m\u001b[0;34m,\u001b[0m \u001b[0msigma\u001b[0m \u001b[0;34m=\u001b[0m \u001b[0m_single_source_dijkstra_path_basic\u001b[0m\u001b[0;34m(\u001b[0m\u001b[0mG\u001b[0m\u001b[0;34m,\u001b[0m \u001b[0ms\u001b[0m\u001b[0;34m,\u001b[0m \u001b[0mweight\u001b[0m\u001b[0;34m)\u001b[0m\u001b[0;34m\u001b[0m\u001b[0;34m\u001b[0m\u001b[0m\n",
      "\u001b[0;32m~/anaconda3/lib/python3.8/site-packages/networkx/algorithms/centrality/betweenness.py\u001b[0m in \u001b[0;36m_single_source_shortest_path_basic\u001b[0;34m(G, s)\u001b[0m\n\u001b[1;32m    251\u001b[0m     \u001b[0mP\u001b[0m \u001b[0;34m=\u001b[0m \u001b[0;34m{\u001b[0m\u001b[0;34m}\u001b[0m\u001b[0;34m\u001b[0m\u001b[0;34m\u001b[0m\u001b[0m\n\u001b[1;32m    252\u001b[0m     \u001b[0;32mfor\u001b[0m \u001b[0mv\u001b[0m \u001b[0;32min\u001b[0m \u001b[0mG\u001b[0m\u001b[0;34m:\u001b[0m\u001b[0;34m\u001b[0m\u001b[0;34m\u001b[0m\u001b[0m\n\u001b[0;32m--> 253\u001b[0;31m         \u001b[0mP\u001b[0m\u001b[0;34m[\u001b[0m\u001b[0mv\u001b[0m\u001b[0;34m]\u001b[0m \u001b[0;34m=\u001b[0m \u001b[0;34m[\u001b[0m\u001b[0;34m]\u001b[0m\u001b[0;34m\u001b[0m\u001b[0;34m\u001b[0m\u001b[0m\n\u001b[0m\u001b[1;32m    254\u001b[0m     \u001b[0msigma\u001b[0m \u001b[0;34m=\u001b[0m \u001b[0mdict\u001b[0m\u001b[0;34m.\u001b[0m\u001b[0mfromkeys\u001b[0m\u001b[0;34m(\u001b[0m\u001b[0mG\u001b[0m\u001b[0;34m,\u001b[0m \u001b[0;36m0.0\u001b[0m\u001b[0;34m)\u001b[0m  \u001b[0;31m# sigma[v]=0 for v in G\u001b[0m\u001b[0;34m\u001b[0m\u001b[0;34m\u001b[0m\u001b[0m\n\u001b[1;32m    255\u001b[0m     \u001b[0mD\u001b[0m \u001b[0;34m=\u001b[0m \u001b[0;34m{\u001b[0m\u001b[0;34m}\u001b[0m\u001b[0;34m\u001b[0m\u001b[0;34m\u001b[0m\u001b[0m\n",
      "\u001b[0;31mKeyboardInterrupt\u001b[0m: "
     ]
    }
   ],
   "source": [
    "nx.betweenness_centrality(G)"
   ]
  },
  {
   "cell_type": "code",
   "execution_count": null,
   "id": "376f03d9",
   "metadata": {},
   "outputs": [],
   "source": []
  }
 ],
 "metadata": {
  "kernelspec": {
   "display_name": "Python 3 (ipykernel)",
   "language": "python",
   "name": "python3"
  },
  "language_info": {
   "codemirror_mode": {
    "name": "ipython",
    "version": 3
   },
   "file_extension": ".py",
   "mimetype": "text/x-python",
   "name": "python",
   "nbconvert_exporter": "python",
   "pygments_lexer": "ipython3",
   "version": "3.9.7"
  }
 },
 "nbformat": 4,
 "nbformat_minor": 5
}
