{
 "cells": [
  {
   "cell_type": "code",
   "execution_count": 1,
   "id": "6b4428e1",
   "metadata": {},
   "outputs": [],
   "source": [
    "import pandas as pd\n",
    "import numpy as np \n",
    "import re \n",
    "import networkx as nx"
   ]
  },
  {
   "cell_type": "code",
   "execution_count": 3,
   "id": "ae487d2e",
   "metadata": {},
   "outputs": [],
   "source": [
    "df_revs = pd.read_csv('/mnt/39b89ea8-8334-43c3-b50b-918be75d4569/Dropbox/Momolbox/code/libro/cap_controversies/ok/WikipediaBush-20230416071703.csv',sep=';')\n",
    "df_revs['date'] = pd.to_datetime(df_revs['Time(calendar)'])"
   ]
  },
  {
   "cell_type": "code",
   "execution_count": 4,
   "id": "ebf2fa51",
   "metadata": {},
   "outputs": [
    {
     "data": {
      "text/html": [
       "<div>\n",
       "<style scoped>\n",
       "    .dataframe tbody tr th:only-of-type {\n",
       "        vertical-align: middle;\n",
       "    }\n",
       "\n",
       "    .dataframe tbody tr th {\n",
       "        vertical-align: top;\n",
       "    }\n",
       "\n",
       "    .dataframe thead th {\n",
       "        text-align: right;\n",
       "    }\n",
       "</style>\n",
       "<table border=\"1\" class=\"dataframe\">\n",
       "  <thead>\n",
       "    <tr style=\"text-align: right;\">\n",
       "      <th></th>\n",
       "      <th>PageTitle</th>\n",
       "      <th>PageID</th>\n",
       "      <th>RevisionID</th>\n",
       "      <th>Time(calendar)</th>\n",
       "      <th>Time(milliseconds)</th>\n",
       "      <th>InteractionType</th>\n",
       "      <th>WordCount</th>\n",
       "      <th>IsAnonymous</th>\n",
       "      <th>ActiveUser</th>\n",
       "      <th>TargetAuthor</th>\n",
       "      <th>UndoTarget</th>\n",
       "      <th>RedoTarget</th>\n",
       "      <th>date</th>\n",
       "    </tr>\n",
       "  </thead>\n",
       "  <tbody>\n",
       "    <tr>\n",
       "      <th>0</th>\n",
       "      <td>George W. Bush</td>\n",
       "      <td>3414021</td>\n",
       "      <td>331658893</td>\n",
       "      <td>2001-11-27T16:04:38Z</td>\n",
       "      <td>1003909929000</td>\n",
       "      <td>ADDED</td>\n",
       "      <td>435</td>\n",
       "      <td>0</td>\n",
       "      <td>Aristotle~enwiki</td>\n",
       "      <td>NaN</td>\n",
       "      <td>NaN</td>\n",
       "      <td>NaN</td>\n",
       "      <td>2001-11-27 16:04:38+00:00</td>\n",
       "    </tr>\n",
       "    <tr>\n",
       "      <th>1</th>\n",
       "      <td>George W. Bush</td>\n",
       "      <td>3414021</td>\n",
       "      <td>331658894</td>\n",
       "      <td>2001-11-27T16:39:21Z</td>\n",
       "      <td>1006873478000</td>\n",
       "      <td>ADDED</td>\n",
       "      <td>6</td>\n",
       "      <td>0</td>\n",
       "      <td>151.188.17.xxx</td>\n",
       "      <td>NaN</td>\n",
       "      <td>NaN</td>\n",
       "      <td>NaN</td>\n",
       "      <td>2001-11-27 16:39:21+00:00</td>\n",
       "    </tr>\n",
       "    <tr>\n",
       "      <th>2</th>\n",
       "      <td>George W. Bush</td>\n",
       "      <td>3414021</td>\n",
       "      <td>331658894</td>\n",
       "      <td>2001-11-27T16:39:21Z</td>\n",
       "      <td>1006873478000</td>\n",
       "      <td>DELETED</td>\n",
       "      <td>3</td>\n",
       "      <td>0</td>\n",
       "      <td>151.188.17.xxx</td>\n",
       "      <td>Aristotle~enwiki</td>\n",
       "      <td>Aristotle~enwiki</td>\n",
       "      <td>NaN</td>\n",
       "      <td>2001-11-27 16:39:21+00:00</td>\n",
       "    </tr>\n",
       "    <tr>\n",
       "      <th>3</th>\n",
       "      <td>George W. Bush</td>\n",
       "      <td>3414021</td>\n",
       "      <td>331658895</td>\n",
       "      <td>2001-12-08T22:34:09Z</td>\n",
       "      <td>1006875561000</td>\n",
       "      <td>DELETED</td>\n",
       "      <td>6</td>\n",
       "      <td>0</td>\n",
       "      <td>The ansible</td>\n",
       "      <td>151.188.17.xxx</td>\n",
       "      <td>151.188.17.xxx</td>\n",
       "      <td>NaN</td>\n",
       "      <td>2001-12-08 22:34:09+00:00</td>\n",
       "    </tr>\n",
       "    <tr>\n",
       "      <th>4</th>\n",
       "      <td>George W. Bush</td>\n",
       "      <td>3414021</td>\n",
       "      <td>331658895</td>\n",
       "      <td>2001-12-08T22:34:09Z</td>\n",
       "      <td>1006875561000</td>\n",
       "      <td>RESTORED</td>\n",
       "      <td>3</td>\n",
       "      <td>0</td>\n",
       "      <td>The ansible</td>\n",
       "      <td>Aristotle~enwiki</td>\n",
       "      <td>151.188.17.xxx</td>\n",
       "      <td>Aristotle~enwiki</td>\n",
       "      <td>2001-12-08 22:34:09+00:00</td>\n",
       "    </tr>\n",
       "    <tr>\n",
       "      <th>...</th>\n",
       "      <td>...</td>\n",
       "      <td>...</td>\n",
       "      <td>...</td>\n",
       "      <td>...</td>\n",
       "      <td>...</td>\n",
       "      <td>...</td>\n",
       "      <td>...</td>\n",
       "      <td>...</td>\n",
       "      <td>...</td>\n",
       "      <td>...</td>\n",
       "      <td>...</td>\n",
       "      <td>...</td>\n",
       "      <td>...</td>\n",
       "    </tr>\n",
       "    <tr>\n",
       "      <th>8318</th>\n",
       "      <td>George W. Bush</td>\n",
       "      <td>3414021</td>\n",
       "      <td>8576460</td>\n",
       "      <td>2004-02-12T21:23:38Z</td>\n",
       "      <td>1076617166000</td>\n",
       "      <td>DELETED</td>\n",
       "      <td>1</td>\n",
       "      <td>0</td>\n",
       "      <td>JonathanDP81</td>\n",
       "      <td>Hephaestos</td>\n",
       "      <td>Morwen</td>\n",
       "      <td>213.200.142.253</td>\n",
       "      <td>2004-02-12 21:23:38+00:00</td>\n",
       "    </tr>\n",
       "    <tr>\n",
       "      <th>8319</th>\n",
       "      <td>George W. Bush</td>\n",
       "      <td>3414021</td>\n",
       "      <td>8576464</td>\n",
       "      <td>2004-02-12T21:27:31Z</td>\n",
       "      <td>1076617651000</td>\n",
       "      <td>ADDED</td>\n",
       "      <td>70</td>\n",
       "      <td>1</td>\n",
       "      <td>199.29.196.5</td>\n",
       "      <td>NaN</td>\n",
       "      <td>NaN</td>\n",
       "      <td>NaN</td>\n",
       "      <td>2004-02-12 21:27:31+00:00</td>\n",
       "    </tr>\n",
       "    <tr>\n",
       "      <th>8320</th>\n",
       "      <td>George W. Bush</td>\n",
       "      <td>3414021</td>\n",
       "      <td>8576464</td>\n",
       "      <td>2004-02-12T21:27:31Z</td>\n",
       "      <td>1076617651000</td>\n",
       "      <td>DELETED</td>\n",
       "      <td>8</td>\n",
       "      <td>1</td>\n",
       "      <td>199.29.196.5</td>\n",
       "      <td>64.230.111.220</td>\n",
       "      <td>64.230.111.220</td>\n",
       "      <td>NaN</td>\n",
       "      <td>2004-02-12 21:27:31+00:00</td>\n",
       "    </tr>\n",
       "    <tr>\n",
       "      <th>8321</th>\n",
       "      <td>George W. Bush</td>\n",
       "      <td>3414021</td>\n",
       "      <td>8576464</td>\n",
       "      <td>2004-02-12T21:27:31Z</td>\n",
       "      <td>1076617651000</td>\n",
       "      <td>DELETED</td>\n",
       "      <td>35</td>\n",
       "      <td>1</td>\n",
       "      <td>199.29.196.5</td>\n",
       "      <td>JonathanDP81</td>\n",
       "      <td>JonathanDP81</td>\n",
       "      <td>NaN</td>\n",
       "      <td>2004-02-12 21:27:31+00:00</td>\n",
       "    </tr>\n",
       "    <tr>\n",
       "      <th>8322</th>\n",
       "      <td>George W. Bush</td>\n",
       "      <td>3414021</td>\n",
       "      <td>8576464</td>\n",
       "      <td>2004-02-12T21:27:31Z</td>\n",
       "      <td>1076617651000</td>\n",
       "      <td>DELETED</td>\n",
       "      <td>24</td>\n",
       "      <td>1</td>\n",
       "      <td>199.29.196.5</td>\n",
       "      <td>Stevenj</td>\n",
       "      <td>Stevenj</td>\n",
       "      <td>NaN</td>\n",
       "      <td>2004-02-12 21:27:31+00:00</td>\n",
       "    </tr>\n",
       "  </tbody>\n",
       "</table>\n",
       "<p>8323 rows × 13 columns</p>\n",
       "</div>"
      ],
      "text/plain": [
       "           PageTitle   PageID  RevisionID        Time(calendar)  \\\n",
       "0     George W. Bush  3414021   331658893  2001-11-27T16:04:38Z   \n",
       "1     George W. Bush  3414021   331658894  2001-11-27T16:39:21Z   \n",
       "2     George W. Bush  3414021   331658894  2001-11-27T16:39:21Z   \n",
       "3     George W. Bush  3414021   331658895  2001-12-08T22:34:09Z   \n",
       "4     George W. Bush  3414021   331658895  2001-12-08T22:34:09Z   \n",
       "...              ...      ...         ...                   ...   \n",
       "8318  George W. Bush  3414021     8576460  2004-02-12T21:23:38Z   \n",
       "8319  George W. Bush  3414021     8576464  2004-02-12T21:27:31Z   \n",
       "8320  George W. Bush  3414021     8576464  2004-02-12T21:27:31Z   \n",
       "8321  George W. Bush  3414021     8576464  2004-02-12T21:27:31Z   \n",
       "8322  George W. Bush  3414021     8576464  2004-02-12T21:27:31Z   \n",
       "\n",
       "      Time(milliseconds) InteractionType  WordCount  IsAnonymous  \\\n",
       "0          1003909929000           ADDED        435            0   \n",
       "1          1006873478000           ADDED          6            0   \n",
       "2          1006873478000         DELETED          3            0   \n",
       "3          1006875561000         DELETED          6            0   \n",
       "4          1006875561000        RESTORED          3            0   \n",
       "...                  ...             ...        ...          ...   \n",
       "8318       1076617166000         DELETED          1            0   \n",
       "8319       1076617651000           ADDED         70            1   \n",
       "8320       1076617651000         DELETED          8            1   \n",
       "8321       1076617651000         DELETED         35            1   \n",
       "8322       1076617651000         DELETED         24            1   \n",
       "\n",
       "            ActiveUser      TargetAuthor        UndoTarget        RedoTarget  \\\n",
       "0     Aristotle~enwiki               NaN               NaN               NaN   \n",
       "1       151.188.17.xxx               NaN               NaN               NaN   \n",
       "2       151.188.17.xxx  Aristotle~enwiki  Aristotle~enwiki               NaN   \n",
       "3          The ansible    151.188.17.xxx    151.188.17.xxx               NaN   \n",
       "4          The ansible  Aristotle~enwiki    151.188.17.xxx  Aristotle~enwiki   \n",
       "...                ...               ...               ...               ...   \n",
       "8318      JonathanDP81        Hephaestos            Morwen   213.200.142.253   \n",
       "8319      199.29.196.5               NaN               NaN               NaN   \n",
       "8320      199.29.196.5    64.230.111.220    64.230.111.220               NaN   \n",
       "8321      199.29.196.5      JonathanDP81      JonathanDP81               NaN   \n",
       "8322      199.29.196.5           Stevenj           Stevenj               NaN   \n",
       "\n",
       "                          date  \n",
       "0    2001-11-27 16:04:38+00:00  \n",
       "1    2001-11-27 16:39:21+00:00  \n",
       "2    2001-11-27 16:39:21+00:00  \n",
       "3    2001-12-08 22:34:09+00:00  \n",
       "4    2001-12-08 22:34:09+00:00  \n",
       "...                        ...  \n",
       "8318 2004-02-12 21:23:38+00:00  \n",
       "8319 2004-02-12 21:27:31+00:00  \n",
       "8320 2004-02-12 21:27:31+00:00  \n",
       "8321 2004-02-12 21:27:31+00:00  \n",
       "8322 2004-02-12 21:27:31+00:00  \n",
       "\n",
       "[8323 rows x 13 columns]"
      ]
     },
     "execution_count": 4,
     "metadata": {},
     "output_type": "execute_result"
    }
   ],
   "source": [
    "df_revs"
   ]
  },
  {
   "cell_type": "markdown",
   "id": "163f002f",
   "metadata": {},
   "source": [
    "## Metriche"
   ]
  },
  {
   "cell_type": "code",
   "execution_count": 5,
   "id": "ee622307",
   "metadata": {},
   "outputs": [],
   "source": [
    "revisions_df = df_revs.drop_duplicates('RevisionID')\n"
   ]
  },
  {
   "cell_type": "code",
   "execution_count": 6,
   "id": "154d1f87",
   "metadata": {},
   "outputs": [
    {
     "data": {
      "text/plain": [
       "DELETED     4430\n",
       "RESTORED    3337\n",
       "ADDED        556\n",
       "Name: InteractionType, dtype: int64"
      ]
     },
     "execution_count": 6,
     "metadata": {},
     "output_type": "execute_result"
    }
   ],
   "source": [
    "df_revs['InteractionType'].value_counts()"
   ]
  },
  {
   "cell_type": "code",
   "execution_count": 7,
   "id": "c2d40aad",
   "metadata": {},
   "outputs": [
    {
     "data": {
      "text/plain": [
       "<AxesSubplot:xlabel='date'>"
      ]
     },
     "execution_count": 7,
     "metadata": {},
     "output_type": "execute_result"
    },
    {
     "data": {
      "image/png": "[encoded data removed]",
      "text/plain": [
       "<Figure size 432x288 with 1 Axes>"
      ]
     },
     "metadata": {
      "needs_background": "light"
     },
     "output_type": "display_data"
    }
   ],
   "source": [
    "revisions_df.resample('M',on='date')['RevisionID'].count().plot()"
   ]
  },
  {
   "cell_type": "code",
   "execution_count": 8,
   "id": "aa5b5d5c",
   "metadata": {},
   "outputs": [
    {
     "data": {
      "text/plain": [
       "<AxesSubplot:xlabel='date'>"
      ]
     },
     "execution_count": 8,
     "metadata": {},
     "output_type": "execute_result"
    },
    {
     "data": {
      "image/png": "[encoded data removed]",
      "text/plain": [
       "<Figure size 432x288 with 1 Axes>"
      ]
     },
     "metadata": {
      "needs_background": "light"
     },
     "output_type": "display_data"
    }
   ],
   "source": [
    "df_revs.resample('M',on='date')['WordCount'].sum().plot()"
   ]
  },
  {
   "cell_type": "code",
   "execution_count": 9,
   "id": "a07ed6ad",
   "metadata": {},
   "outputs": [
    {
     "data": {
      "text/plain": [
       "<AxesSubplot:ylabel='IsAnonymous'>"
      ]
     },
     "execution_count": 9,
     "metadata": {},
     "output_type": "execute_result"
    },
    {
     "data": {
      "image/png": "[encoded data removed]",
      "text/plain": [
       "<Figure size 432x288 with 1 Axes>"
      ]
     },
     "metadata": {},
     "output_type": "display_data"
    }
   ],
   "source": [
    "revisions_df['IsAnonymous'].value_counts().plot(kind='pie', autopct='%1.1f%%',labels=['registrato','anonimo'])"
   ]
  },
  {
   "cell_type": "code",
   "execution_count": 10,
   "id": "fa42b374",
   "metadata": {},
   "outputs": [
    {
     "data": {
      "text/plain": [
       "<AxesSubplot:>"
      ]
     },
     "execution_count": 10,
     "metadata": {},
     "output_type": "execute_result"
    },
    {
     "data": {
      "image/png": "[encoded data removed]",
      "text/plain": [
       "<Figure size 432x288 with 1 Axes>"
      ]
     },
     "metadata": {
      "needs_background": "light"
     },
     "output_type": "display_data"
    }
   ],
   "source": [
    "revisions_df_named = revisions_df[revisions_df['IsAnonymous']==0]\n",
    "revisions_df_named['ActiveUser'].value_counts().head(10).plot(kind='bar')"
   ]
  },
  {
   "cell_type": "markdown",
   "id": "64a69343",
   "metadata": {},
   "source": [
    "## Network di supporto"
   ]
  },
  {
   "cell_type": "code",
   "execution_count": 11,
   "id": "6832f41b",
   "metadata": {},
   "outputs": [],
   "source": [
    "restored_df = df_revs[df_revs['InteractionType']=='RESTORED']"
   ]
  },
  {
   "cell_type": "code",
   "execution_count": 12,
   "id": "1c7a2fec",
   "metadata": {},
   "outputs": [],
   "source": [
    "positive_edges = restored_df[['ActiveUser','RedoTarget']].to_dict('records')"
   ]
  },
  {
   "cell_type": "code",
   "execution_count": 14,
   "id": "84f65a56",
   "metadata": {},
   "outputs": [],
   "source": [
    "for edge in positive_edges:\n",
    "    edge['Source'] = edge.pop(\"ActiveUser\")\n",
    "    edge['Target'] = edge.pop('RedoTarget')\n",
    "    "
   ]
  },
  {
   "cell_type": "code",
   "execution_count": 17,
   "id": "fdf1a273",
   "metadata": {},
   "outputs": [],
   "source": [
    "G_supp = nx.DiGraph()\n",
    "\n",
    "for edge in positive_edges: \n",
    "        if edge['Source'] != edge['Target']:\n",
    "            if G_supp.has_edge(edge['Source'], edge['Target']):\n",
    "                G_supp[edge['Source']][edge['Target']]['weight'] += 1   \n",
    "            else:\n",
    "                G_supp.add_edge(edge['Source'],edge['Target'],weight=1)"
   ]
  },
  {
   "cell_type": "code",
   "execution_count": 18,
   "id": "f30eccfb",
   "metadata": {},
   "outputs": [],
   "source": [
    "num_nodes = G_supp.number_of_nodes()\n",
    "num_edges = G_supp.number_of_edges()\n",
    "\n",
    "avg_degree = sum(dict(G_supp.degree()).values()) / float(num_nodes)\n",
    "clustering = nx.average_clustering(G_supp)\n",
    "\n",
    "assortativity = nx.degree_assortativity_coefficient(G_supp)\n",
    "\n",
    "\n",
    "density = nx.density(G_supp)"
   ]
  },
  {
   "cell_type": "code",
   "execution_count": 19,
   "id": "2e67e4b5",
   "metadata": {},
   "outputs": [
    {
     "name": "stdout",
     "output_type": "stream",
     "text": [
      "n nodes: 202\n",
      "n edges: 310\n",
      "clustering:0.10433762446461056\n",
      "assortativity: -0.3857838516799055\n",
      "density: 0.007635091867395694\n"
     ]
    }
   ],
   "source": [
    "print('n nodes: '+ str(num_nodes))\n",
    "print('n edges: '+ str(num_edges))\n",
    "print('clustering:' +str(clustering))\n",
    "print('assortativity: '+str(assortativity))\n",
    "\n",
    "print('density: '+str(density))"
   ]
  },
  {
   "cell_type": "code",
   "execution_count": 20,
   "id": "b42d488d",
   "metadata": {},
   "outputs": [],
   "source": [
    "edge_w_supp = nx.get_edge_attributes(G_supp,'weight')"
   ]
  },
  {
   "cell_type": "code",
   "execution_count": 21,
   "id": "847d5fee",
   "metadata": {},
   "outputs": [
    {
     "data": {
      "text/html": [
       "<div>\n",
       "<style scoped>\n",
       "    .dataframe tbody tr th:only-of-type {\n",
       "        vertical-align: middle;\n",
       "    }\n",
       "\n",
       "    .dataframe tbody tr th {\n",
       "        vertical-align: top;\n",
       "    }\n",
       "\n",
       "    .dataframe thead th {\n",
       "        text-align: right;\n",
       "    }\n",
       "</style>\n",
       "<table border=\"1\" class=\"dataframe\">\n",
       "  <thead>\n",
       "    <tr style=\"text-align: right;\">\n",
       "      <th></th>\n",
       "      <th>Source</th>\n",
       "      <th>Target</th>\n",
       "      <th>Weight</th>\n",
       "    </tr>\n",
       "  </thead>\n",
       "  <tbody>\n",
       "    <tr>\n",
       "      <th>127</th>\n",
       "      <td>Hephaestos</td>\n",
       "      <td>Evercat</td>\n",
       "      <td>494</td>\n",
       "    </tr>\n",
       "    <tr>\n",
       "      <th>164</th>\n",
       "      <td>Evercat</td>\n",
       "      <td>Hephaestos</td>\n",
       "      <td>374</td>\n",
       "    </tr>\n",
       "    <tr>\n",
       "      <th>151</th>\n",
       "      <td>Evercat</td>\n",
       "      <td>Smith03</td>\n",
       "      <td>121</td>\n",
       "    </tr>\n",
       "    <tr>\n",
       "      <th>301</th>\n",
       "      <td>Camembert</td>\n",
       "      <td>Tannin</td>\n",
       "      <td>117</td>\n",
       "    </tr>\n",
       "    <tr>\n",
       "      <th>105</th>\n",
       "      <td>Tannin</td>\n",
       "      <td>Ahoerstemeier</td>\n",
       "      <td>116</td>\n",
       "    </tr>\n",
       "    <tr>\n",
       "      <th>...</th>\n",
       "      <td>...</td>\n",
       "      <td>...</td>\n",
       "      <td>...</td>\n",
       "    </tr>\n",
       "    <tr>\n",
       "      <th>112</th>\n",
       "      <td>DavidLevinson</td>\n",
       "      <td>Minesweeper</td>\n",
       "      <td>1</td>\n",
       "    </tr>\n",
       "    <tr>\n",
       "      <th>113</th>\n",
       "      <td>JohnOwens</td>\n",
       "      <td>67.119.25.241</td>\n",
       "      <td>1</td>\n",
       "    </tr>\n",
       "    <tr>\n",
       "      <th>114</th>\n",
       "      <td>JohnOwens</td>\n",
       "      <td>209.86.240.99</td>\n",
       "      <td>1</td>\n",
       "    </tr>\n",
       "    <tr>\n",
       "      <th>116</th>\n",
       "      <td>JohnOwens</td>\n",
       "      <td>Tannin</td>\n",
       "      <td>1</td>\n",
       "    </tr>\n",
       "    <tr>\n",
       "      <th>309</th>\n",
       "      <td>TMC1221</td>\n",
       "      <td>Snoyes</td>\n",
       "      <td>1</td>\n",
       "    </tr>\n",
       "  </tbody>\n",
       "</table>\n",
       "<p>310 rows × 3 columns</p>\n",
       "</div>"
      ],
      "text/plain": [
       "            Source         Target  Weight\n",
       "127     Hephaestos        Evercat     494\n",
       "164        Evercat     Hephaestos     374\n",
       "151        Evercat        Smith03     121\n",
       "301      Camembert         Tannin     117\n",
       "105         Tannin  Ahoerstemeier     116\n",
       "..             ...            ...     ...\n",
       "112  DavidLevinson    Minesweeper       1\n",
       "113      JohnOwens  67.119.25.241       1\n",
       "114      JohnOwens  209.86.240.99       1\n",
       "116      JohnOwens         Tannin       1\n",
       "309        TMC1221         Snoyes       1\n",
       "\n",
       "[310 rows x 3 columns]"
      ]
     },
     "execution_count": 21,
     "metadata": {},
     "output_type": "execute_result"
    }
   ],
   "source": [
    "df_support = pd.Series(edge_w_supp).reset_index()  \n",
    "df_support.rename(columns= {'level_0':'Source','level_1':'Target',0:'Weight'},inplace=True)\n",
    "\n",
    "df_support.sort_values(by='Weight',ascending = False)"
   ]
  },
  {
   "cell_type": "code",
   "execution_count": 24,
   "id": "cc53a834",
   "metadata": {},
   "outputs": [],
   "source": [
    "indegree_df_pos = pd.DataFrame(G_supp.in_degree(weight='weight')).rename(columns={0:'User',1:'Indegree'})"
   ]
  },
  {
   "cell_type": "code",
   "execution_count": 25,
   "id": "59108d61",
   "metadata": {},
   "outputs": [],
   "source": [
    "outdegree_df_pos = pd.DataFrame(G_supp.out_degree(weight='weight')).rename(columns={0:'User',1:'Outdegree'})"
   ]
  },
  {
   "cell_type": "code",
   "execution_count": 26,
   "id": "5a620cbd",
   "metadata": {},
   "outputs": [
    {
     "data": {
      "text/html": [
       "<div>\n",
       "<style scoped>\n",
       "    .dataframe tbody tr th:only-of-type {\n",
       "        vertical-align: middle;\n",
       "    }\n",
       "\n",
       "    .dataframe tbody tr th {\n",
       "        vertical-align: top;\n",
       "    }\n",
       "\n",
       "    .dataframe thead th {\n",
       "        text-align: right;\n",
       "    }\n",
       "</style>\n",
       "<table border=\"1\" class=\"dataframe\">\n",
       "  <thead>\n",
       "    <tr style=\"text-align: right;\">\n",
       "      <th></th>\n",
       "      <th>User</th>\n",
       "      <th>Indegree</th>\n",
       "    </tr>\n",
       "  </thead>\n",
       "  <tbody>\n",
       "    <tr>\n",
       "      <th>97</th>\n",
       "      <td>Evercat</td>\n",
       "      <td>646</td>\n",
       "    </tr>\n",
       "    <tr>\n",
       "      <th>55</th>\n",
       "      <td>Hephaestos</td>\n",
       "      <td>558</td>\n",
       "    </tr>\n",
       "    <tr>\n",
       "      <th>100</th>\n",
       "      <td>Ahoerstemeier</td>\n",
       "      <td>233</td>\n",
       "    </tr>\n",
       "    <tr>\n",
       "      <th>8</th>\n",
       "      <td>Tannin</td>\n",
       "      <td>209</td>\n",
       "    </tr>\n",
       "    <tr>\n",
       "      <th>173</th>\n",
       "      <td>Dysprosia</td>\n",
       "      <td>161</td>\n",
       "    </tr>\n",
       "    <tr>\n",
       "      <th>...</th>\n",
       "      <td>...</td>\n",
       "      <td>...</td>\n",
       "    </tr>\n",
       "    <tr>\n",
       "      <th>79</th>\n",
       "      <td>216.229.90.232</td>\n",
       "      <td>1</td>\n",
       "    </tr>\n",
       "    <tr>\n",
       "      <th>95</th>\n",
       "      <td>TheStick</td>\n",
       "      <td>0</td>\n",
       "    </tr>\n",
       "    <tr>\n",
       "      <th>188</th>\n",
       "      <td>Xiaopo</td>\n",
       "      <td>0</td>\n",
       "    </tr>\n",
       "    <tr>\n",
       "      <th>200</th>\n",
       "      <td>Rasmus Faber</td>\n",
       "      <td>0</td>\n",
       "    </tr>\n",
       "    <tr>\n",
       "      <th>201</th>\n",
       "      <td>TMC1221</td>\n",
       "      <td>0</td>\n",
       "    </tr>\n",
       "  </tbody>\n",
       "</table>\n",
       "<p>202 rows × 2 columns</p>\n",
       "</div>"
      ],
      "text/plain": [
       "               User  Indegree\n",
       "97          Evercat       646\n",
       "55       Hephaestos       558\n",
       "100   Ahoerstemeier       233\n",
       "8            Tannin       209\n",
       "173       Dysprosia       161\n",
       "..              ...       ...\n",
       "79   216.229.90.232         1\n",
       "95         TheStick         0\n",
       "188          Xiaopo         0\n",
       "200    Rasmus Faber         0\n",
       "201         TMC1221         0\n",
       "\n",
       "[202 rows x 2 columns]"
      ]
     },
     "execution_count": 26,
     "metadata": {},
     "output_type": "execute_result"
    }
   ],
   "source": [
    "indegree_df_pos.sort_values(by='Indegree', ascending=False)"
   ]
  },
  {
   "cell_type": "code",
   "execution_count": 27,
   "id": "979ae574",
   "metadata": {},
   "outputs": [
    {
     "data": {
      "text/html": [
       "<div>\n",
       "<style scoped>\n",
       "    .dataframe tbody tr th:only-of-type {\n",
       "        vertical-align: middle;\n",
       "    }\n",
       "\n",
       "    .dataframe tbody tr th {\n",
       "        vertical-align: top;\n",
       "    }\n",
       "\n",
       "    .dataframe thead th {\n",
       "        text-align: right;\n",
       "    }\n",
       "</style>\n",
       "<table border=\"1\" class=\"dataframe\">\n",
       "  <thead>\n",
       "    <tr style=\"text-align: right;\">\n",
       "      <th></th>\n",
       "      <th>User</th>\n",
       "      <th>Outdegree</th>\n",
       "    </tr>\n",
       "  </thead>\n",
       "  <tbody>\n",
       "    <tr>\n",
       "      <th>97</th>\n",
       "      <td>Evercat</td>\n",
       "      <td>644</td>\n",
       "    </tr>\n",
       "    <tr>\n",
       "      <th>55</th>\n",
       "      <td>Hephaestos</td>\n",
       "      <td>566</td>\n",
       "    </tr>\n",
       "    <tr>\n",
       "      <th>153</th>\n",
       "      <td>Morwen</td>\n",
       "      <td>295</td>\n",
       "    </tr>\n",
       "    <tr>\n",
       "      <th>100</th>\n",
       "      <td>Ahoerstemeier</td>\n",
       "      <td>274</td>\n",
       "    </tr>\n",
       "    <tr>\n",
       "      <th>8</th>\n",
       "      <td>Tannin</td>\n",
       "      <td>220</td>\n",
       "    </tr>\n",
       "    <tr>\n",
       "      <th>...</th>\n",
       "      <td>...</td>\n",
       "      <td>...</td>\n",
       "    </tr>\n",
       "    <tr>\n",
       "      <th>92</th>\n",
       "      <td>RobLa</td>\n",
       "      <td>0</td>\n",
       "    </tr>\n",
       "    <tr>\n",
       "      <th>34</th>\n",
       "      <td>64.26.98.90</td>\n",
       "      <td>0</td>\n",
       "    </tr>\n",
       "    <tr>\n",
       "      <th>94</th>\n",
       "      <td>Sannse</td>\n",
       "      <td>0</td>\n",
       "    </tr>\n",
       "    <tr>\n",
       "      <th>33</th>\n",
       "      <td>Dietary Fiber</td>\n",
       "      <td>0</td>\n",
       "    </tr>\n",
       "    <tr>\n",
       "      <th>119</th>\n",
       "      <td>Sugarfishes</td>\n",
       "      <td>0</td>\n",
       "    </tr>\n",
       "  </tbody>\n",
       "</table>\n",
       "<p>202 rows × 2 columns</p>\n",
       "</div>"
      ],
      "text/plain": [
       "              User  Outdegree\n",
       "97         Evercat        644\n",
       "55      Hephaestos        566\n",
       "153         Morwen        295\n",
       "100  Ahoerstemeier        274\n",
       "8           Tannin        220\n",
       "..             ...        ...\n",
       "92           RobLa          0\n",
       "34     64.26.98.90          0\n",
       "94          Sannse          0\n",
       "33   Dietary Fiber          0\n",
       "119    Sugarfishes          0\n",
       "\n",
       "[202 rows x 2 columns]"
      ]
     },
     "execution_count": 27,
     "metadata": {},
     "output_type": "execute_result"
    }
   ],
   "source": [
    "outdegree_df_pos.sort_values(by='Outdegree', ascending=False)"
   ]
  },
  {
   "cell_type": "markdown",
   "id": "6302c914",
   "metadata": {},
   "source": [
    "## Network di conflitto"
   ]
  },
  {
   "cell_type": "code",
   "execution_count": 29,
   "id": "dd11f3d5",
   "metadata": {},
   "outputs": [],
   "source": [
    "negative_edges_temp1 = restored_df[['ActiveUser','UndoTarget']].to_dict('records')"
   ]
  },
  {
   "cell_type": "code",
   "execution_count": 30,
   "id": "1f351fed",
   "metadata": {},
   "outputs": [],
   "source": [
    "deleted_df = df_revs[df_revs['InteractionType']=='DELETED']"
   ]
  },
  {
   "cell_type": "code",
   "execution_count": 31,
   "id": "640f198f",
   "metadata": {},
   "outputs": [],
   "source": [
    "negative_edges_temp2 = deleted_df[['ActiveUser','UndoTarget']].to_dict('records')"
   ]
  },
  {
   "cell_type": "code",
   "execution_count": 32,
   "id": "feafc2ee",
   "metadata": {},
   "outputs": [],
   "source": [
    "negative_edges = negative_edges_temp1 +negative_edges_temp2\n",
    "for edge in negative_edges:\n",
    "    edge['Source'] = edge.pop(\"ActiveUser\")\n",
    "    edge['Target'] = edge.pop('UndoTarget')"
   ]
  },
  {
   "cell_type": "code",
   "execution_count": 33,
   "id": "a983d5fe",
   "metadata": {},
   "outputs": [],
   "source": [
    "G_conf = nx.DiGraph()\n",
    "\n",
    "for edge in negative_edges:\n",
    "    if edge['Source'] != edge['Target']:\n",
    "    \n",
    "        if G_conf.has_edge(edge['Source'], edge['Target']):\n",
    "            G_conf[edge['Source']][edge['Target']]['weight'] += 1\n",
    "        else:\n",
    "            G_conf.add_edge(edge['Source'],edge['Target'],weight=1)\n",
    "                       "
   ]
  },
  {
   "cell_type": "code",
   "execution_count": 34,
   "id": "19bf5fed",
   "metadata": {},
   "outputs": [],
   "source": [
    "num_nodes = G_conf.number_of_nodes()\n",
    "num_edges = G_conf.number_of_edges()\n",
    "\n",
    "avg_degree = sum(dict(G_conf.degree()).values()) / float(num_nodes)\n",
    "clustering = nx.average_clustering(G_conf)\n",
    "\n",
    "assortativity = nx.degree_assortativity_coefficient(G_conf)\n",
    "\n",
    "\n",
    "density = nx.density(G_conf)"
   ]
  },
  {
   "cell_type": "code",
   "execution_count": 35,
   "id": "8acc81e9",
   "metadata": {},
   "outputs": [
    {
     "name": "stdout",
     "output_type": "stream",
     "text": [
      "n nodes: 364\n",
      "n edges: 983\n",
      "clustering:0.22704615418449708\n",
      "assortativity: -0.20295606951803716\n",
      "density: 0.007439530166802894\n"
     ]
    }
   ],
   "source": [
    "print('n nodes: '+ str(num_nodes))\n",
    "print('n edges: '+ str(num_edges))\n",
    "print('clustering:' +str(clustering))\n",
    "print('assortativity: '+str(assortativity))\n",
    "\n",
    "print('density: '+str(density))"
   ]
  },
  {
   "cell_type": "code",
   "execution_count": 36,
   "id": "04275037",
   "metadata": {},
   "outputs": [],
   "source": [
    "edge_w_conf = nx.get_edge_attributes(G_conf,'weight')"
   ]
  },
  {
   "cell_type": "code",
   "execution_count": 37,
   "id": "15b18822",
   "metadata": {},
   "outputs": [],
   "source": [
    "df_conflict = pd.Series(edge_w_conf).reset_index()  \n",
    "df_conflict.rename(columns= {'level_0':'Source','level_1':'Target',0:'Weight'},inplace=True)"
   ]
  },
  {
   "cell_type": "code",
   "execution_count": 38,
   "id": "c779a37f",
   "metadata": {},
   "outputs": [],
   "source": [
    "indegree_df_conf = pd.DataFrame(G_conf.in_degree(weight='weight')).rename(columns={0:'User',1:'Indegree'})\n",
    "outdegree_df_conf = pd.DataFrame(G_conf.out_degree(weight='weight')).rename(columns={0:'User',1:'Outdegree'})"
   ]
  },
  {
   "cell_type": "code",
   "execution_count": 39,
   "id": "d6cc63dc",
   "metadata": {},
   "outputs": [
    {
     "data": {
      "text/html": [
       "<div>\n",
       "<style scoped>\n",
       "    .dataframe tbody tr th:only-of-type {\n",
       "        vertical-align: middle;\n",
       "    }\n",
       "\n",
       "    .dataframe tbody tr th {\n",
       "        vertical-align: top;\n",
       "    }\n",
       "\n",
       "    .dataframe thead th {\n",
       "        text-align: right;\n",
       "    }\n",
       "</style>\n",
       "<table border=\"1\" class=\"dataframe\">\n",
       "  <thead>\n",
       "    <tr style=\"text-align: right;\">\n",
       "      <th></th>\n",
       "      <th>User</th>\n",
       "      <th>Indegree</th>\n",
       "    </tr>\n",
       "  </thead>\n",
       "  <tbody>\n",
       "    <tr>\n",
       "      <th>24</th>\n",
       "      <td>Hephaestos</td>\n",
       "      <td>731</td>\n",
       "    </tr>\n",
       "    <tr>\n",
       "      <th>29</th>\n",
       "      <td>Evercat</td>\n",
       "      <td>719</td>\n",
       "    </tr>\n",
       "    <tr>\n",
       "      <th>50</th>\n",
       "      <td>Henrik (old)</td>\n",
       "      <td>620</td>\n",
       "    </tr>\n",
       "    <tr>\n",
       "      <th>65</th>\n",
       "      <td>Morwen</td>\n",
       "      <td>358</td>\n",
       "    </tr>\n",
       "    <tr>\n",
       "      <th>49</th>\n",
       "      <td>80.213.1.204</td>\n",
       "      <td>263</td>\n",
       "    </tr>\n",
       "    <tr>\n",
       "      <th>...</th>\n",
       "      <td>...</td>\n",
       "      <td>...</td>\n",
       "    </tr>\n",
       "    <tr>\n",
       "      <th>311</th>\n",
       "      <td>Mattworld</td>\n",
       "      <td>0</td>\n",
       "    </tr>\n",
       "    <tr>\n",
       "      <th>335</th>\n",
       "      <td>64.230.109.16</td>\n",
       "      <td>0</td>\n",
       "    </tr>\n",
       "    <tr>\n",
       "      <th>244</th>\n",
       "      <td>129.49.78.62</td>\n",
       "      <td>0</td>\n",
       "    </tr>\n",
       "    <tr>\n",
       "      <th>142</th>\n",
       "      <td>KamikazeArchon</td>\n",
       "      <td>0</td>\n",
       "    </tr>\n",
       "    <tr>\n",
       "      <th>132</th>\n",
       "      <td>Lee Daniel Crocker</td>\n",
       "      <td>0</td>\n",
       "    </tr>\n",
       "  </tbody>\n",
       "</table>\n",
       "<p>364 rows × 2 columns</p>\n",
       "</div>"
      ],
      "text/plain": [
       "                   User  Indegree\n",
       "24           Hephaestos       731\n",
       "29              Evercat       719\n",
       "50         Henrik (old)       620\n",
       "65               Morwen       358\n",
       "49         80.213.1.204       263\n",
       "..                  ...       ...\n",
       "311           Mattworld         0\n",
       "335       64.230.109.16         0\n",
       "244        129.49.78.62         0\n",
       "142      KamikazeArchon         0\n",
       "132  Lee Daniel Crocker         0\n",
       "\n",
       "[364 rows x 2 columns]"
      ]
     },
     "execution_count": 39,
     "metadata": {},
     "output_type": "execute_result"
    }
   ],
   "source": [
    "indegree_df_conf.sort_values(by='Indegree',ascending=False)"
   ]
  },
  {
   "cell_type": "code",
   "execution_count": 41,
   "id": "5afb447d",
   "metadata": {},
   "outputs": [
    {
     "data": {
      "text/html": [
       "<div>\n",
       "<style scoped>\n",
       "    .dataframe tbody tr th:only-of-type {\n",
       "        vertical-align: middle;\n",
       "    }\n",
       "\n",
       "    .dataframe tbody tr th {\n",
       "        vertical-align: top;\n",
       "    }\n",
       "\n",
       "    .dataframe thead th {\n",
       "        text-align: right;\n",
       "    }\n",
       "</style>\n",
       "<table border=\"1\" class=\"dataframe\">\n",
       "  <thead>\n",
       "    <tr style=\"text-align: right;\">\n",
       "      <th></th>\n",
       "      <th>User</th>\n",
       "      <th>Outdegree</th>\n",
       "    </tr>\n",
       "  </thead>\n",
       "  <tbody>\n",
       "    <tr>\n",
       "      <th>24</th>\n",
       "      <td>Hephaestos</td>\n",
       "      <td>719</td>\n",
       "    </tr>\n",
       "    <tr>\n",
       "      <th>29</th>\n",
       "      <td>Evercat</td>\n",
       "      <td>657</td>\n",
       "    </tr>\n",
       "    <tr>\n",
       "      <th>50</th>\n",
       "      <td>Henrik (old)</td>\n",
       "      <td>619</td>\n",
       "    </tr>\n",
       "    <tr>\n",
       "      <th>65</th>\n",
       "      <td>Morwen</td>\n",
       "      <td>298</td>\n",
       "    </tr>\n",
       "    <tr>\n",
       "      <th>34</th>\n",
       "      <td>Ahoerstemeier</td>\n",
       "      <td>287</td>\n",
       "    </tr>\n",
       "    <tr>\n",
       "      <th>...</th>\n",
       "      <td>...</td>\n",
       "      <td>...</td>\n",
       "    </tr>\n",
       "    <tr>\n",
       "      <th>272</th>\n",
       "      <td>67.122.15.11</td>\n",
       "      <td>0</td>\n",
       "    </tr>\n",
       "    <tr>\n",
       "      <th>271</th>\n",
       "      <td>Rimez</td>\n",
       "      <td>0</td>\n",
       "    </tr>\n",
       "    <tr>\n",
       "      <th>270</th>\n",
       "      <td>Tedius Zanarukando</td>\n",
       "      <td>0</td>\n",
       "    </tr>\n",
       "    <tr>\n",
       "      <th>210</th>\n",
       "      <td>80.221.239.64</td>\n",
       "      <td>0</td>\n",
       "    </tr>\n",
       "    <tr>\n",
       "      <th>298</th>\n",
       "      <td>128.32.185.226</td>\n",
       "      <td>0</td>\n",
       "    </tr>\n",
       "  </tbody>\n",
       "</table>\n",
       "<p>364 rows × 2 columns</p>\n",
       "</div>"
      ],
      "text/plain": [
       "                   User  Outdegree\n",
       "24           Hephaestos        719\n",
       "29              Evercat        657\n",
       "50         Henrik (old)        619\n",
       "65               Morwen        298\n",
       "34        Ahoerstemeier        287\n",
       "..                  ...        ...\n",
       "272        67.122.15.11          0\n",
       "271               Rimez          0\n",
       "270  Tedius Zanarukando          0\n",
       "210       80.221.239.64          0\n",
       "298      128.32.185.226          0\n",
       "\n",
       "[364 rows x 2 columns]"
      ]
     },
     "execution_count": 41,
     "metadata": {},
     "output_type": "execute_result"
    }
   ],
   "source": [
    "outdegree_df_conf.sort_values(by='Outdegree',ascending=False)"
   ]
  },
  {
   "cell_type": "markdown",
   "id": "50140207",
   "metadata": {},
   "source": [
    "## Network di mutuo conflitto"
   ]
  },
  {
   "cell_type": "code",
   "execution_count": 42,
   "id": "29d0b440",
   "metadata": {},
   "outputs": [],
   "source": [
    "from itertools import combinations"
   ]
  },
  {
   "cell_type": "code",
   "execution_count": 43,
   "id": "10e4cad9",
   "metadata": {},
   "outputs": [],
   "source": [
    "negative_edges_df = pd.DataFrame(negative_edges)"
   ]
  },
  {
   "cell_type": "code",
   "execution_count": 44,
   "id": "6ff3bc7d",
   "metadata": {},
   "outputs": [],
   "source": [
    "\n",
    "negative_edges_t = list(set([e['Source'] for e in negative_edges])) "
   ]
  },
  {
   "cell_type": "code",
   "execution_count": 45,
   "id": "8a79e393",
   "metadata": {},
   "outputs": [],
   "source": [
    "#traccia una connessione fra tutti gli utenti che hanno cancellato un utente \n",
    "\n",
    "mc_edges =[]\n",
    "\n",
    "\n",
    "\n",
    "for e in negative_edges_t:\n",
    "    filter_df = negative_edges_df[negative_edges_df['Target'] ==e]\n",
    "    \n",
    "    sources = filter_df['Source'].unique().tolist()\n",
    "    \n",
    "    mc_edges_temp = [c for c in combinations( sources,2)]\n",
    "    mc_edges.extend(mc_edges_temp)\n",
    "    \n",
    "    \n",
    "    \n",
    "    \n",
    "    \n",
    "    \n"
   ]
  },
  {
   "cell_type": "code",
   "execution_count": 46,
   "id": "f25a3aca",
   "metadata": {},
   "outputs": [],
   "source": [
    "G_mc = nx.Graph()\n",
    "\n",
    "for edge in mc_edges:\n",
    "    G_mc.add_edge(edge[0],edge[1])"
   ]
  },
  {
   "cell_type": "code",
   "execution_count": 47,
   "id": "d0533ae4",
   "metadata": {},
   "outputs": [],
   "source": [
    "num_nodes = G_mc.number_of_nodes()\n",
    "num_edges = G_mc.number_of_edges()\n",
    "\n",
    "avg_degree = sum(dict(G_mc.degree()).values()) / float(num_nodes)\n",
    "clustering = nx.average_clustering(G_mc)\n",
    "\n",
    "assortativity = nx.degree_assortativity_coefficient(G_mc)\n",
    "\n",
    "\n",
    "density = nx.density(G_mc)"
   ]
  },
  {
   "cell_type": "code",
   "execution_count": 48,
   "id": "1044d7b2",
   "metadata": {},
   "outputs": [
    {
     "name": "stdout",
     "output_type": "stream",
     "text": [
      "n nodes: 244\n",
      "n edges: 3549\n",
      "clustering:0.8131422179666642\n",
      "assortativity: -0.08834328578202219\n",
      "density: 0.11971260878364703\n"
     ]
    }
   ],
   "source": [
    "print('n nodes: '+ str(num_nodes))\n",
    "print('n edges: '+ str(num_edges))\n",
    "print('clustering:' +str(clustering))\n",
    "print('assortativity: '+str(assortativity))\n",
    "\n",
    "print('density: '+str(density))"
   ]
  },
  {
   "cell_type": "code",
   "execution_count": 49,
   "id": "9d10976c",
   "metadata": {},
   "outputs": [],
   "source": [
    "nx.write_gexf(G_mc, 'bush.gexf')"
   ]
  },
  {
   "cell_type": "code",
   "execution_count": null,
   "id": "da0db235",
   "metadata": {},
   "outputs": [],
   "source": []
  },
  {
   "cell_type": "markdown",
   "id": "682ec846",
   "metadata": {},
   "source": [
    "## comunita discorsive "
   ]
  },
  {
   "cell_type": "code",
   "execution_count": 51,
   "id": "cd643262",
   "metadata": {},
   "outputs": [],
   "source": [
    "import community\n",
    "\n",
    "\n",
    "partition = community.best_partition(G_mc)\n",
    "\n",
    "df_communities = pd.DataFrame.from_dict(partition, orient='index', columns=['community'])"
   ]
  },
  {
   "cell_type": "code",
   "execution_count": 52,
   "id": "6d32ee2d",
   "metadata": {},
   "outputs": [
    {
     "data": {
      "text/plain": [
       "3    82\n",
       "1    69\n",
       "2    62\n",
       "0    15\n",
       "6    12\n",
       "4     2\n",
       "5     2\n",
       "Name: community, dtype: int64"
      ]
     },
     "execution_count": 52,
     "metadata": {},
     "output_type": "execute_result"
    }
   ],
   "source": [
    "df_communities['community'].value_counts()"
   ]
  },
  {
   "cell_type": "code",
   "execution_count": 53,
   "id": "74066dd6",
   "metadata": {},
   "outputs": [
    {
     "data": {
      "text/html": [
       "<div>\n",
       "<style scoped>\n",
       "    .dataframe tbody tr th:only-of-type {\n",
       "        vertical-align: middle;\n",
       "    }\n",
       "\n",
       "    .dataframe tbody tr th {\n",
       "        vertical-align: top;\n",
       "    }\n",
       "\n",
       "    .dataframe thead th {\n",
       "        text-align: right;\n",
       "    }\n",
       "</style>\n",
       "<table border=\"1\" class=\"dataframe\">\n",
       "  <thead>\n",
       "    <tr style=\"text-align: right;\">\n",
       "      <th></th>\n",
       "      <th>community</th>\n",
       "    </tr>\n",
       "  </thead>\n",
       "  <tbody>\n",
       "    <tr>\n",
       "      <th>Vzbs34</th>\n",
       "      <td>3</td>\n",
       "    </tr>\n",
       "    <tr>\n",
       "      <th>203.59.48.208</th>\n",
       "      <td>3</td>\n",
       "    </tr>\n",
       "    <tr>\n",
       "      <th>205.215.134.20</th>\n",
       "      <td>1</td>\n",
       "    </tr>\n",
       "    <tr>\n",
       "      <th>Minesweeper</th>\n",
       "      <td>2</td>\n",
       "    </tr>\n",
       "    <tr>\n",
       "      <th>213.200.142.253</th>\n",
       "      <td>0</td>\n",
       "    </tr>\n",
       "    <tr>\n",
       "      <th>...</th>\n",
       "      <td>...</td>\n",
       "    </tr>\n",
       "    <tr>\n",
       "      <th>66.98.130.64</th>\n",
       "      <td>1</td>\n",
       "    </tr>\n",
       "    <tr>\n",
       "      <th>Flockmeal</th>\n",
       "      <td>1</td>\n",
       "    </tr>\n",
       "    <tr>\n",
       "      <th>Sannse</th>\n",
       "      <td>6</td>\n",
       "    </tr>\n",
       "    <tr>\n",
       "      <th>HarryHarry</th>\n",
       "      <td>6</td>\n",
       "    </tr>\n",
       "    <tr>\n",
       "      <th>203.59.112.73</th>\n",
       "      <td>6</td>\n",
       "    </tr>\n",
       "  </tbody>\n",
       "</table>\n",
       "<p>244 rows × 1 columns</p>\n",
       "</div>"
      ],
      "text/plain": [
       "                 community\n",
       "Vzbs34                   3\n",
       "203.59.48.208            3\n",
       "205.215.134.20           1\n",
       "Minesweeper              2\n",
       "213.200.142.253          0\n",
       "...                    ...\n",
       "66.98.130.64             1\n",
       "Flockmeal                1\n",
       "Sannse                   6\n",
       "HarryHarry               6\n",
       "203.59.112.73            6\n",
       "\n",
       "[244 rows x 1 columns]"
      ]
     },
     "execution_count": 53,
     "metadata": {},
     "output_type": "execute_result"
    }
   ],
   "source": [
    "df_communities"
   ]
  },
  {
   "cell_type": "code",
   "execution_count": 54,
   "id": "7c8ab8a2",
   "metadata": {},
   "outputs": [],
   "source": [
    "top_3 = df_communities['community'].value_counts().head(3).index.tolist() "
   ]
  },
  {
   "cell_type": "code",
   "execution_count": 55,
   "id": "7148e6f1",
   "metadata": {},
   "outputs": [],
   "source": [
    "user_dic = {}\n",
    "\n",
    "for community in top_3:\n",
    "    user_dic[community] = df_communities[df_communities['community']==community].index.tolist()"
   ]
  },
  {
   "cell_type": "code",
   "execution_count": 56,
   "id": "dc405184",
   "metadata": {},
   "outputs": [],
   "source": [
    "#estrazione testi dal dump"
   ]
  },
  {
   "cell_type": "code",
   "execution_count": 57,
   "id": "97dcb7f1",
   "metadata": {},
   "outputs": [],
   "source": [
    "import mwxml\n",
    "import nltk\n",
    "from nltk.stem import WordNetLemmatizer\n",
    "from nltk.corpus import stopwords"
   ]
  },
  {
   "cell_type": "code",
   "execution_count": 58,
   "id": "059db1c0",
   "metadata": {},
   "outputs": [],
   "source": [
    "stop = stopwords.words('english')+['www','http']"
   ]
  },
  {
   "cell_type": "code",
   "execution_count": 59,
   "id": "607ff5a6",
   "metadata": {},
   "outputs": [],
   "source": [
    "def clean_text(text):\n",
    "   \n",
    "    text = re.sub(r'[^a-zA-Z]', ' ', text)\n",
    "  \n",
    "    text = text.lower()\n",
    "   \n",
    "    words = nltk.word_tokenize(text)\n",
    "   \n",
    "    lemmatizer = WordNetLemmatizer()\n",
    "  \n",
    "    words = [lemmatizer.lemmatize(word) for word in words if word not in stop and len(word)>2]\n",
    "    \n",
    "    text = ' '.join(words)\n",
    "    return text"
   ]
  },
  {
   "cell_type": "code",
   "execution_count": 60,
   "id": "46bda63f",
   "metadata": {},
   "outputs": [
    {
     "data": {
      "text/plain": [
       "[3, 1, 2]"
      ]
     },
     "execution_count": 60,
     "metadata": {},
     "output_type": "execute_result"
    }
   ],
   "source": [
    "top_3"
   ]
  },
  {
   "cell_type": "code",
   "execution_count": 62,
   "id": "aebc5128",
   "metadata": {},
   "outputs": [],
   "source": [
    "dump = mwxml.Dump.from_file(open(\"/mnt/39b89ea8-8334-43c3-b50b-918be75d4569/Dropbox/Momolbox/code/libro/cap_controversies/ok/WikipediaBush-20230416071703.xml\"))\n",
    "\n",
    "\n",
    "texts= {}\n",
    "\n",
    "for c in top_3: \n",
    "    texts[c] = ''\n",
    "\n",
    "\n",
    "\n",
    "\n",
    "for page in dump:\n",
    "    for review in page:\n",
    "        for c in top_3:\n",
    "\n",
    "            if review.user.text in user_dic[c]:\n",
    "                if review.text is not None: \n",
    "                    texts[c] = texts[c] + clean_text(review.text)\n",
    "                \n",
    "\n"
   ]
  },
  {
   "cell_type": "markdown",
   "id": "4fa778ee",
   "metadata": {},
   "source": [
    "## TF-IDF"
   ]
  },
  {
   "cell_type": "code",
   "execution_count": 63,
   "id": "e448a1e3",
   "metadata": {},
   "outputs": [],
   "source": [
    "from sklearn.feature_extraction.text import TfidfVectorizer"
   ]
  },
  {
   "cell_type": "code",
   "execution_count": 64,
   "id": "e7abaf5f",
   "metadata": {},
   "outputs": [],
   "source": [
    "tf_idf_values={}\n",
    "docs = [value for value in texts.values()]\n",
    "tfIdfVectorizer=TfidfVectorizer(use_idf=True)\n",
    "tfIdf = tfIdfVectorizer.fit_transform(docs)\n",
    "\n",
    "for n,cl in enumerate(top_3):\n",
    "    df_tfidf = pd.DataFrame(tfIdf[n].T.todense(), index=tfIdfVectorizer.get_feature_names_out(), columns=[\"TF-IDF\"]).sort_values('TF-IDF', ascending=False)\n",
    "    \n",
    "    tf_idf_values[cl] = df_tfidf\n",
    "\n",
    "df_tf_idf_all = pd.DataFrame() \n",
    "\n",
    "for cl in top_3:\n",
    "    df_tf_idf_all['tfidf_'+str(cl)] = tf_idf_values[cl]['TF-IDF']\n",
    "\n",
    "tf_idf_cols = df_tf_idf_all.columns.tolist()\n",
    "\n",
    "for col in tf_idf_cols:\n",
    "  df_tf_idf_all[re.sub('tf_idf_','',col)+'_max'] = np.where(col  == df_tf_idf_all[tf_idf_cols].idxmax(axis=1),True,False)"
   ]
  },
  {
   "cell_type": "code",
   "execution_count": 65,
   "id": "360f8f8d",
   "metadata": {},
   "outputs": [
    {
     "data": {
      "text/html": [
       "<div>\n",
       "<style scoped>\n",
       "    .dataframe tbody tr th:only-of-type {\n",
       "        vertical-align: middle;\n",
       "    }\n",
       "\n",
       "    .dataframe tbody tr th {\n",
       "        vertical-align: top;\n",
       "    }\n",
       "\n",
       "    .dataframe thead th {\n",
       "        text-align: right;\n",
       "    }\n",
       "</style>\n",
       "<table border=\"1\" class=\"dataframe\">\n",
       "  <thead>\n",
       "    <tr style=\"text-align: right;\">\n",
       "      <th></th>\n",
       "      <th>tfidf_3</th>\n",
       "      <th>tfidf_1</th>\n",
       "      <th>tfidf_2</th>\n",
       "      <th>tfidf_3_max</th>\n",
       "      <th>tfidf_1_max</th>\n",
       "      <th>tfidf_2_max</th>\n",
       "    </tr>\n",
       "  </thead>\n",
       "  <tbody>\n",
       "    <tr>\n",
       "      <th>bush</th>\n",
       "      <td>0.706901</td>\n",
       "      <td>0.709987</td>\n",
       "      <td>0.723240</td>\n",
       "      <td>False</td>\n",
       "      <td>False</td>\n",
       "      <td>True</td>\n",
       "    </tr>\n",
       "    <tr>\n",
       "      <th>state</th>\n",
       "      <td>0.232286</td>\n",
       "      <td>0.256580</td>\n",
       "      <td>0.244426</td>\n",
       "      <td>False</td>\n",
       "      <td>True</td>\n",
       "      <td>False</td>\n",
       "    </tr>\n",
       "    <tr>\n",
       "      <th>president</th>\n",
       "      <td>0.175103</td>\n",
       "      <td>0.173281</td>\n",
       "      <td>0.185073</td>\n",
       "      <td>False</td>\n",
       "      <td>False</td>\n",
       "      <td>True</td>\n",
       "    </tr>\n",
       "    <tr>\n",
       "      <th>united</th>\n",
       "      <td>0.170643</td>\n",
       "      <td>0.212317</td>\n",
       "      <td>0.206827</td>\n",
       "      <td>False</td>\n",
       "      <td>True</td>\n",
       "      <td>False</td>\n",
       "    </tr>\n",
       "    <tr>\n",
       "      <th>tax</th>\n",
       "      <td>0.114983</td>\n",
       "      <td>0.091759</td>\n",
       "      <td>0.039982</td>\n",
       "      <td>True</td>\n",
       "      <td>False</td>\n",
       "      <td>False</td>\n",
       "    </tr>\n",
       "    <tr>\n",
       "      <th>...</th>\n",
       "      <td>...</td>\n",
       "      <td>...</td>\n",
       "      <td>...</td>\n",
       "      <td>...</td>\n",
       "      <td>...</td>\n",
       "      <td>...</td>\n",
       "    </tr>\n",
       "    <tr>\n",
       "      <th>manned</th>\n",
       "      <td>0.000000</td>\n",
       "      <td>0.000035</td>\n",
       "      <td>0.000173</td>\n",
       "      <td>False</td>\n",
       "      <td>False</td>\n",
       "      <td>True</td>\n",
       "    </tr>\n",
       "    <tr>\n",
       "      <th>mandatowego</th>\n",
       "      <td>0.000000</td>\n",
       "      <td>0.000000</td>\n",
       "      <td>0.000057</td>\n",
       "      <td>False</td>\n",
       "      <td>False</td>\n",
       "      <td>True</td>\n",
       "    </tr>\n",
       "    <tr>\n",
       "      <th>maj</th>\n",
       "      <td>0.000000</td>\n",
       "      <td>0.000000</td>\n",
       "      <td>0.000114</td>\n",
       "      <td>False</td>\n",
       "      <td>False</td>\n",
       "      <td>True</td>\n",
       "    </tr>\n",
       "    <tr>\n",
       "      <th>mainly</th>\n",
       "      <td>0.000000</td>\n",
       "      <td>0.000000</td>\n",
       "      <td>0.000114</td>\n",
       "      <td>False</td>\n",
       "      <td>False</td>\n",
       "      <td>True</td>\n",
       "    </tr>\n",
       "    <tr>\n",
       "      <th>zwyci</th>\n",
       "      <td>0.000000</td>\n",
       "      <td>0.000000</td>\n",
       "      <td>0.000057</td>\n",
       "      <td>False</td>\n",
       "      <td>False</td>\n",
       "      <td>True</td>\n",
       "    </tr>\n",
       "  </tbody>\n",
       "</table>\n",
       "<p>3751 rows × 6 columns</p>\n",
       "</div>"
      ],
      "text/plain": [
       "              tfidf_3   tfidf_1   tfidf_2  tfidf_3_max  tfidf_1_max  \\\n",
       "bush         0.706901  0.709987  0.723240        False        False   \n",
       "state        0.232286  0.256580  0.244426        False         True   \n",
       "president    0.175103  0.173281  0.185073        False        False   \n",
       "united       0.170643  0.212317  0.206827        False         True   \n",
       "tax          0.114983  0.091759  0.039982         True        False   \n",
       "...               ...       ...       ...          ...          ...   \n",
       "manned       0.000000  0.000035  0.000173        False        False   \n",
       "mandatowego  0.000000  0.000000  0.000057        False        False   \n",
       "maj          0.000000  0.000000  0.000114        False        False   \n",
       "mainly       0.000000  0.000000  0.000114        False        False   \n",
       "zwyci        0.000000  0.000000  0.000057        False        False   \n",
       "\n",
       "             tfidf_2_max  \n",
       "bush                True  \n",
       "state              False  \n",
       "president           True  \n",
       "united             False  \n",
       "tax                False  \n",
       "...                  ...  \n",
       "manned              True  \n",
       "mandatowego         True  \n",
       "maj                 True  \n",
       "mainly              True  \n",
       "zwyci               True  \n",
       "\n",
       "[3751 rows x 6 columns]"
      ]
     },
     "execution_count": 65,
     "metadata": {},
     "output_type": "execute_result"
    }
   ],
   "source": [
    "df_tf_idf_all"
   ]
  },
  {
   "cell_type": "code",
   "execution_count": 66,
   "id": "ea67e41d",
   "metadata": {},
   "outputs": [],
   "source": [
    "from wordcloud import WordCloud\n",
    "import matplotlib.pyplot as plt"
   ]
  },
  {
   "cell_type": "code",
   "execution_count": 67,
   "id": "780c4a08",
   "metadata": {},
   "outputs": [],
   "source": [
    "word_clouds=[]\n",
    "\n",
    "for cl in top_3:\n",
    "    \n",
    "    \n",
    "    filtered_df = df_tf_idf_all[df_tf_idf_all['tfidf_'+str(cl)+'_max']==True]\n",
    "    wc = WordCloud(background_color=\"black\", max_words=500, colormap='Reds')\n",
    "\n",
    "    wc.generate_from_frequencies(filtered_df['tfidf_'+str(cl)].to_dict())\n",
    "    #wc_tf_idf[str(cl)] = wc\n",
    "    \n",
    "    wc_dic = {'class':cl,'wc':wc}\n",
    "    word_clouds.append(wc_dic)\n",
    "    "
   ]
  },
  {
   "cell_type": "code",
   "execution_count": 68,
   "id": "397b1c81",
   "metadata": {},
   "outputs": [
    {
     "data": {
      "image/png": "[encoded data removed]",
      "text/plain": [
       "<Figure size 1152x648 with 3 Axes>"
      ]
     },
     "metadata": {
      "needs_background": "light"
     },
     "output_type": "display_data"
    }
   ],
   "source": [
    "fig = plt.figure(figsize=(16,9))\n",
    "for i in range(len(word_clouds)):\n",
    "    ax = fig.add_subplot(3,2,i+1)\n",
    "    ax.imshow(word_clouds[i]['wc'])\n",
    "    ax.set_title(word_clouds[i]['class'])\n"
   ]
  },
  {
   "cell_type": "code",
   "execution_count": null,
   "id": "0b98299c",
   "metadata": {},
   "outputs": [],
   "source": []
  }
 ],
 "metadata": {
  "kernelspec": {
   "display_name": "Python 3 (ipykernel)",
   "language": "python",
   "name": "python3"
  },
  "language_info": {
   "codemirror_mode": {
    "name": "ipython",
    "version": 3
   },
   "file_extension": ".py",
   "mimetype": "text/x-python",
   "name": "python",
   "nbconvert_exporter": "python",
   "pygments_lexer": "ipython3",
   "version": "3.9.7"
  }
 },
 "nbformat": 4,
 "nbformat_minor": 5
}
