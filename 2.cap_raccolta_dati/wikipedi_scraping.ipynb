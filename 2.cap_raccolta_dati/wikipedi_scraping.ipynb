{
 "cells": [
  {
   "cell_type": "code",
   "execution_count": 1,
   "metadata": {},
   "outputs": [],
   "source": [
    "import requests\n",
    "import re, os, csv\n",
    "from bs4 import BeautifulSoup"
   ]
  },
  {
   "cell_type": "code",
   "execution_count": 2,
   "metadata": {},
   "outputs": [],
   "source": [
    "def csv_writer(filename,to_write):\n",
    "    headers = to_write.keys()\n",
    "    file_exists = os.path.isfile(filename)\n",
    "\n",
    "    with open(filename,'a') as f:\n",
    "        writer = csv.DictWriter(f, delimiter=',',fieldnames=headers)\n",
    "        \n",
    "        \n",
    "        if not file_exists:\n",
    "            writer.writeheader()\n",
    "        writer.writerow(to_write)"
   ]
  },
  {
   "cell_type": "code",
   "execution_count": 3,
   "metadata": {},
   "outputs": [],
   "source": [
    "req = requests.get('https://it.wikipedia.org/wiki/Sociologia')\n",
    "soup = BeautifulSoup(req.content,'html.parser')"
   ]
  },
  {
   "cell_type": "code",
   "execution_count": 4,
   "metadata": {},
   "outputs": [],
   "source": [
    "article_title = soup.find('h1',{'class':'firstHeading mw-first-heading'}).text"
   ]
  },
  {
   "cell_type": "code",
   "execution_count": 5,
   "metadata": {},
   "outputs": [
    {
     "data": {
      "text/plain": [
       "'Sociologia'"
      ]
     },
     "execution_count": 5,
     "metadata": {},
     "output_type": "execute_result"
    }
   ],
   "source": [
    "article_title"
   ]
  },
  {
   "cell_type": "code",
   "execution_count": 6,
   "metadata": {},
   "outputs": [],
   "source": [
    "# get text \n",
    "\n",
    "texts = []\n",
    "for par in soup.find_all('p'):\n",
    "    texts.append(re.sub(r\"\\n\" ,'',par.text))\n",
    "    "
   ]
  },
  {
   "cell_type": "code",
   "execution_count": 7,
   "metadata": {},
   "outputs": [],
   "source": [
    "#get all links\n",
    "links = soup.find_all('a')\n"
   ]
  },
  {
   "cell_type": "code",
   "execution_count": 8,
   "metadata": {},
   "outputs": [
    {
     "name": "stdout",
     "output_type": "stream",
     "text": [
      "Storia\n",
      "Descrizione\n",
      "Metodologia\n",
      "Principali modelli teorici\n",
      "Esempi di parole chiave\n",
      "Sottodiscipline\n",
      "I paradigmi sociologici\n",
      "Il paradigma dell'ordine\n",
      "Il paradigma del conflitto\n",
      "Il paradigma della struttura\n",
      "Sociologi\n",
      "Note\n",
      "Bibliografia\n",
      "Voci correlate\n",
      "Altri progetti\n",
      "Collegamenti esterni\n"
     ]
    }
   ],
   "source": [
    "#get all titles\n",
    "titles = soup.find_all('span',{'class','mw-headline'})\n",
    "\n",
    "for title in titles: \n",
    "    print(title.text)\n",
    "    "
   ]
  },
  {
   "cell_type": "code",
   "execution_count": 9,
   "metadata": {},
   "outputs": [],
   "source": [
    "import time \n"
   ]
  },
  {
   "cell_type": "code",
   "execution_count": 15,
   "metadata": {},
   "outputs": [],
   "source": [
    "urls = ['https://it.wikipedia.org/wiki/Sociologia',\n",
    "        'https://it.wikipedia.org/wiki/Python']\n",
    "\n",
    "\n",
    "for url in urls: \n",
    "    texts=[]\n",
    "    \n",
    "    req = requests.get(url)\n",
    "    soup = BeautifulSoup(req.content,'html.parser')\n",
    "    \n",
    "    time.sleep(1)\n",
    "    \n",
    "    for par in soup.find_all('p'):\n",
    "        texts.append(re.sub(r\"\\n\" ,'',par.text))\n",
    "        \n",
    "    final_text = ' '.join(texts)\n",
    "    csv_writer( 'wikipedia_scraping_test.csv',{'text':final_text})\n",
    "    \n",
    "    \n",
    "    \n"
   ]
  },
  {
   "cell_type": "code",
   "execution_count": 110,
   "metadata": {},
   "outputs": [
    {
     "data": {
      "text/plain": [
       "'Python è un linguaggio di programmazione di \"alto livello\", orientato a oggetti, adatto, tra gli altri usi, a sviluppare applicazioni distribuite, scripting, computazione numerica e system testing. Ideato da Guido van Rossum all\\'inizio degli anni novanta, è spesso paragonato a Ruby, Tcl, Perl, JavaScript, Visual Basic o Scheme[1]. Il nome fu scelto per la passione dello stesso inventore verso i Monty Python e per la loro serie televisiva Monty Python\\'s Flying Circus[2]. Spesso viene anche studiato tra i primi linguaggi per la sua somiglianza a uno pseudo-codice e di frequente viene usato per simulare la creazione di software grazie alla flessibilità di sperimentazione consentita da Python, che permette al programmatore di organizzare le idee durante lo sviluppo, come per esempio il creare un gioco tramite Pygame oppure il back-end di un sito web tramite Flask o Django.  Python dispone anche di una sezione grafica, il modulo Python Turtle Graphics, che permette di applicare le righe di codici alla grafica. È un linguaggio multi-paradigma che ha tra i principali obiettivi: dinamicità, semplicità e flessibilità. Supporta il paradigma object oriented, la programmazione strutturata e molte caratteristiche di programmazione funzionale e riflessione. Le caratteristiche più immediatamente riconoscibili di Python sono le variabili non tipizzate e l\\'uso dell\\'indentazione per la sintassi delle specifiche, al posto delle più comuni parentesi. Altre caratteristiche distintive sono l\\'overloading di operatori e funzioni tramite delegati, la presenza di un ricco assortimento di tipi e funzioni di base e librerie standard, sintassi avanzate quali slicing e list comprehension. Il controllo dei tipi è forte (strong typing) e viene eseguito in runtime (dynamic typing): una variabile è un contenitore a cui viene associata un\\'etichetta (il nome) che può essere associata a diversi contenitori anche di tipo diverso durante il suo tempo di vita. Fa parte di Python un sistema garbage collector per liberazione e recupero automatico della memoria di lavoro. Python ha qualche somiglianza con Perl, ma i suoi progettisti hanno scelto una sintassi più essenziale e uniforme con l\\'obiettivo di migliorare la leggibilità del codice. Analogamente a Perl è classificato spesso come linguaggio di scripting, ma pur essendo utile per scrivere script di sistema, in alternativa per esempio a bash, la grande quantità di librerie disponibili e la facilità con cui il linguaggio permette di scrivere software modulare favoriscono anche lo sviluppo di applicazioni molto complesse. Sebbene Python venga in genere considerato un linguaggio interpretato, in realtà il codice sorgente non viene convertito direttamente in linguaggio macchina. Infatti passa prima da una fase di pre-compilazione in bytecode, che viene quasi sempre riutilizzato dopo la prima esecuzione del programma, evitando così di reinterpretare ogni volta il sorgente e migliorando le prestazioni. Inoltre è possibile distribuire programmi Python direttamente in bytecode, saltando totalmente la fase di interpretazione da parte dell\\'utilizzatore finale e ottenendo programmi Python a sorgente chiuso[3]. Come il linguaggio Lisp e a differenza del Perl, l\\'interprete Python supporta anche un modo d\\'uso interattivo (REPL) attraverso cui è possibile inserire codice direttamente da un terminale, visualizzando immediatamente il risultato. Inoltre l\\'interprete Python è contenuto nella libreria standard, perciò come in molti altri linguaggi interpretati è possibile far valutare stringhe arbitrarie nel contesto corrente. È possibile passare all\\'interprete anche un contesto completamente diverso, sotto forma di liste che contengono l\\'elenco dei simboli definiti. Python dispone anche di un framework per lo unit testing che supporta lo sviluppo di test unitari automatici. Se paragonato ai linguaggi compilati statically typed, come ad esempio il C, la velocità di esecuzione non è uno dei punti di forza di Python[4], specie nel calcolo matematico. Inoltre, il programma si basa unicamente su un core, ed il multi-threading è presente al solo livello astratto. Esisteva un\\'estensione, Psyco[5], il cui sviluppo è terminato nel 2012, che era una sorta di compilatore JIT, in grado di velocizzare in modo notevole alcuni tipi di codice, specialmente l\\'implementazione di algoritmi, a scapito dell\\'aumento di memoria utilizzata. Un progetto attuale e attivamente sviluppato per migliorare le prestazioni del codice Python grazie a un compilatore JIT è PyPy[6]. Python permette di aggirare in modo facile l\\'ostacolo delle performance pure: è infatti relativamente semplice scrivere un\\'estensione in C o C++ e poi utilizzarla all\\'interno di Python, sfruttando così l\\'elevata velocità di un linguaggio compilato solo nelle parti in cui effettivamente serve e sfruttando invece la potenza e versatilità di Python per tutto il resto del software[7]. Sono attualmente disponibili le seguenti implementazioni di Python: Essendo Python a tipizzazione dinamica, tutte le variabili sono, in realtà, puntatori a oggetto. Per esempio, se a una variabile è assegnato un valore numerico intero, subito dopo può essere assegnata una stringa o una lista. Gli oggetti sono invece dotati di tipo. Python prevede un moderato controllo dei tipi al momento dell\\'esecuzione, ovvero runtime.  I tipi numerici godono di conversione implicita perciò è possibile, per esempio, moltiplicare un numero complesso per un intero. Non esiste invece conversione implicita tra numeri e stringhe alfanumeriche; perciò un numero è un argomento non valido per le operazioni su stringhe, a differenza di quanto avviene per esempio in linguaggio PHP. Python dispone di vari modelli/librerie da utilizzare per fornire funzionalità senza dovere scrivere codice, come per esempio il modulo turtle graphics[14] (per disegnare), copy[15] (per creare copie di oggetti), random[16] (per generare numeri casuali),  sys[17] (per interagire da riga di comandi con l\\'interprete) e time (per operare con unità di tempo e date). Python mette a disposizione un gran numero di tipi base, essenzialmente numerici e contenitori. Caratteristica distintiva è il supporto nativo, oltre che ai classici tipi quali interi, floating point (numeri con virgola mobile) e stringhe alfanumeriche, anche a tipi più evoluti quali interi a grandezza arbitraria, numeri complessi, liste, insiemi e dizionari. Non è invece previsto un tipo specifico per i caratteri. Molti altri tipi sono importabili da librerie standard e nuovi tipi possono essere creati attraverso le classi. Il modulo turtle, come le altre librerie, è importabile con l\\'apposita funzione Import, scrivendo nel codice sorgente: I comandi scritti sopra rendono disponibili gli oggetti Turtle e Screen, le cui funzioni possono essere assegnate a degli oggetti veri e propri come di seguito: Tutte le funzioni dello sfondo e della penna possono essere usate richiamandole come nel codice sotto: I tipi interi (int) e floating point (float) hanno una dimensione dipendente dall\\'hardware e dall\\'implementazione dell\\'interprete, in genere 32 e 64 bit. Sono previsti, in modo nativo, numeri interi arbitrariamente grandi (long, che diventano l\\'opzione di default per gli interi a partire da Python 3.0) e numeri complessi (complex). Python prevede tutti i principali operatori logici e aritmetici fra numeri, compreso l\\'elevamento a potenza. Il tipo booleano (bool) appartiene anch\\'esso alla categoria dei numeri. Dalla versione 2.4 di Python sono disponibili come libreria[18] anche i numeri decimali (decimal), ossia numeri in virgola mobile con precisione illimitata, come quelli disponibili in REXX o in Cobol, che non soffrono di problemi di arrotondamento e stabilità tipici dei numeri floating point classici. Python considera in generale come contenitori gli oggetti che prevedono la possibilità di iterare su un insieme di elementi, perciò utilizzabili all\\'interno di contesti quali il ciclo for e funzioni quali somma, ricerca e ordinamento. I contenitori in genere permettono di contenere dati di tipo eterogeneo. Per quanto riguarda i contenitori standard propriamente detti, sono classificabili come sequenze, insiemi e dizionari. I contenitori seguono una filosofia comune e condividono gran parte dei metodi. Le sequenze sono contenitori ordinati, che condividono metodi basati sull\\'ordinamento, l\\'indicizzazione intera e la creazione di sottosequenze tramite slicing. Le liste (list) sono sequenze estendibili, mentre le tuple (tuple) sono sequenze immutabili. Anche le stringhe alfanumeriche (str e unicode) sono considerate sequenze. A partire da Python 3.0, i tipi str e unicode sono unificati e compare il tipo byte, equivalente grosso modo a una stringa binaria. Sono previste tutte le operazioni classiche sulle stringhe come concatenamento, formattazione, ricerca, sostituzione e così via. Le stringhe in Python sono sequenze immutabili, cosicché qualsiasi operazione che in qualche modo potrebbe alterare una stringa, per esempio la sostituzione di un carattere, restituisce in effetti una nuova stringa, come avviene in Java e in C#. Altri contenitori sono i dizionari (dict), conosciuti in altri contesti con il nome di hash table oppure array associativi. Esiste una sintassi per la creazione di dizionari, i cui elementi sono specificati da una coppia di dati separati da due punti \\':\\'. Il primo elemento della coppia rappresenta l\\'indice, detto \"chiave\", e il secondo è il suo valore corrispondente. Infatti ogni elemento di un dizionario è detto anche \"coppia chiave-valore\". Per esempio l\\'istruzione seguente crea un dizionario identificato come diz composto da due elementi le cui chiavi sono wikipedia e wikiquote, rispettivamente e con associati i valori interi 40 e 60:  Le chiavi in un dizionario sono immutabili, mentre il valore corrispondente a ciascuna chiave è alterabile tramite un\\'assegnazione. La seguente istruzione modifica il valore corrispondente a \"wikipedia\", portandolo a 4500:  A partire dalla versione 2.7 di Python[19] sono supportati anche gli insiemi (set e frozenset), ovvero insiemi non ordinati di oggetti hashable. Il sistema dei tipi Python è ben integrato con il sistema delle classi. Anche se i tipi base non sono formalmente classi, come per esempio in C#, una classe può comunque ereditare da essi. In questo modo è possibile estendere stringhe, dizionari e perfino gli interi. È inoltre supportata l\\'ereditarietà multipla[20]. Vengono supportate anche funzionalità estensive di introspezione sui tipi e sulle classi. I tipi e le classi sono a loro volta oggetti che possono essere esplorati e confrontati. Gli attributi sono gestiti in un dizionario. Python è stato progettato in modo da risultare facilmente leggibile e scrivibile. Visivamente si presenta in modo lineare e pulito, con pochi costrutti sintattici rispetto ad altri linguaggi strutturati come per esempio C, Perl o Pascal. Per esempio, Python ha solo due forme di ciclo: for che itera sugli elementi di una lista o su un iteratore (equivalente al foreach di Perl o PHP) e while che cicla fintanto che l\\'espressione booleana specificata risulterà vera. In sostanza manca dei cicli in stile C for, do while e until, ma tutti questi possono essere espressi con dei semplici equivalenti. Allo stesso modo ha solamente il costrutto if elif else per le scelte condizionate, ma non possiede né switch né goto. Un aspetto inusuale del Python è il metodo che usa per delimitare i blocchi di programma, che lo rende unico fra i linguaggi più diffusi. Nei linguaggi derivati dall\\'ALGOL come Pascal, C e Perl, i blocchi di codice sono indicati con parentesi oppure con parole chiave; per esempio il C e il Perl usano { } mentre il Pascal usa begin e end. In questi linguaggi è solo una pura convenzione degli sviluppatori indentare (ovvero \"fare rientrare\" dal margine sinistro della pagina) il codice sorgente interno a un blocco per migliorarne la leggibilità e chiarire la struttura del flusso di esecuzione. Invece Python deriva il suo sistema di indentazione dal meno noto linguaggio di programmazione Occam: invece di usare parentesi o parole chiave, usa l\\'indentazione stessa per indicare i blocchi nidificati in congiunzione col carattere \"due punti\" (:). In Python si possono usare sia una tabulazione sia un numero arbitrario di spazi, purché ovviamente siano usati in modo congruente con la sintassi del linguaggio. L\\'esempio che segue chiarisce questo aspetto, mostrando la versione in C e in Python di funzioni per il calcolo del fattoriale di un numero intero. Fattoriale in C: Fattoriale in Python: All\\'inizio questo modo di indicare i blocchi e esprimere la sintassi può confondere le idee a chi viene da altri linguaggi, ma poi si rivela molto vantaggioso, perché risulta conciso e obbliga a scrivere sorgenti indentati correttamente, aumentando così la leggibilità del codice. Lo svantaggio è che la gestione degli spazi e dei caratteri di tabulazione può essere diversa da un editor di testo all\\'altro, il che costringe a prestare bene attenzione nell\\'indentare il codice oppure ad affidarsi alle funzioni di indentazione automatica ormai presenti nella maggior parte degli editor di programmi. Può anche capitare di lavorare con editor di codice sorgente diversi, su vari computer, e ritrovarsi così con codice sorgente che usa in modo misto tabulazioni e spazi, accorgendosi dell\\'errore solo in fase di esecuzione. Python permette anche alcune scorciatoie per scrivere codice \"più\" sulla stessa riga. Se i due punti (:) danno il via a un blocco indentato di una sola riga: la possiamo spostare a seguito di uno spazio dopo.  Sebbene decisamente poco apprezzabile per i puristi del linguaggio Python, è comunque possibile usare il \"punto e virgola\" (;) come in grande parte dei linguaggi di programmazione per indicare che un\\'istruzione è conclusa, e cominciarne un\\'altra sulla stessa riga. Un altro punto di forza di Python è la disponibilità di elementi che facilitano la programmazione funzionale. Le funzioni sono considerate degli oggetti e sono dunque utilizzabili alla stregua di qualsiasi altro oggetto, ad esempio inserendole in collezioni o utilizzandole direttamente come parametri per altre funzioni. Gli elementi di programmazione funzionale, insieme a costrutti specifici per la manipolazione di contenitori, rendono ancora più comodo operare con liste o altri tipi contenitore. Gli slicing sono un costrutto simile all\\'indicizzazione in grado di ottenere sottosequenze specificando gli indici di inizio, di fine, e lo \\'step\\'. La list comprehension è un costrutto preso dal linguaggio funzionale Haskell e consente il \"riempimento\" di una lista - usando una sintassi apposita - come possiamo vedere nel seguente esempio in cui vengono calcolate le prime cinque potenze di due: I generatori sono invece dei particolari oggetti in grado di costruire delle collezioni in maniera dinamica, utili per aumentare l\\'efficienza in particolare presenza di iterazioni su un gran numero di elementi. Le generator expression, simili alle list comprehension, sono uno strumento rapido ed efficace per creare generatori. La parola chiave yield permette di creare generatori con una sintassi del tutto simile a quella di una funzione. Passiamo a qualche esempio; generator expression: Oppure, per avere un maggiore controllo, come una normale funzione, possiamo usare la parola chiave yield al posto di return, per trasformare la nostra funzione in un generatore. In questo modo la funzione \\'salva\\' il suo stato, per poi riprendere l\\'esecuzione del codice quando viene richiamato il valore dello yield successivo. L\\'uso è identico. Si chiama la funzione next che restituisce un nuovo valore ogni volta, riprendendo l\\'esecuzione del codice dalla parola chiave yield. Quando i valori sono finiti, viene sollevata un\\'eccezione StopIterationError. In ogni caso, non è l\\'unico modo di interagire con i generatori, e si può risalire ai data passati allo yeld della funzione in questo modo: Per creare una lista da un generatore, si usa semplicemente la chiamata list(gen): I generatori sono preferiti alle liste in quanto non occupano memoria, dato che i valori sono semplicemente calcolati di volta in volta e non permangono in memoria. Per questo è consigliabile usare, per esempio, xrange (che è un generatore) al posto di range (che restituisce una lista) con numeri molto grandi, per garantire una maggiore velocità È anche possibile scrivere espressioni if...else su una sola riga, cosa che risulta utile in combinazione con le lambda (vedi sotto). Dal momento che Python permette di avere  funzioni come argomenti, è anche possibile avere costrutti funzionali più sottili, come ad esempio la continuazione.[21]. In Python esiste la parola chiave lambda, particolarmente utile in contesti dove è necessario svolgere piccole operazioni che probabilmente saranno effettuate solo in quella zona del codice: Questo uso di map però è contestato e si preferisce usare le list-comprehension: Tuttavia i blocchi lambda possono contenere solo espressioni, non statement. Non sono quindi il modo più generale per restituire una funzione. Si può usare invece la seguente tecnica che restituisce una funzione il cui nome è definito in uno scope locale, ovvero una closure: Un decoratore è qualsiasi oggetto di Python invocabile usato per aggiungere codice all\\'inizio o al termine di una funzione, un metodo o una definizione di classe, senza modificarne internamente il codice. Un decoratore è passato all\\'oggetto e ritorna l\\'oggetto modificato. I decoratori sono ispirati in parte dalla notazione Java, hanno una sintassi simile e considerati zucchero sintattico. Usano @ come parola chiave: I decoratori possono essere a catena posizionandone diversi in linee adiacenti: ed è equivalente a: La struttura standard del decoratore è: Analogamente ad altri linguaggi di programmazione, in Python è possibile lasciare dei commenti nelle righe di codice per comprendere meglio ciò che accade eseguendo il programma. In Python i commenti (già a partire dalle primissime versioni del linguaggio di programmazione) si introducono con il simbolo \"#\" per non alterare il codice. Python supporta e usa estesamente la gestione delle eccezioni come mezzo per segnalare e controllare eventuali condizioni di errore, incluse le eccezioni generate dagli errori di sintassi. Le eccezioni permettono un controllo degli errori più conciso e affidabile rispetto a molti altri modi possibili usati in genere per segnalare errori o situazioni anomale. Le eccezioni sono thread-safe; non sovraccaricano il codice sorgente come fanno invece i controlli sui valori di errore restituiti e possono facilmente propagarsi verso l\\'alto nello stack delle chiamate a funzione quando un errore deve essere segnalato a un livello più alto del programma. Con la gestione delle eccezioni i controlli preventivi sono sostituiti da un più agevole meccanismo che permette di eseguire direttamente l\\'azione desiderata e catturare separatamente le eventuali eccezioni che si possono verificare. Oltre che per la gestione degli errori, in alcune occasioni le eccezioni sono usate in Python anche per il controllo di flusso: ad esempio l\\'operazione di iterazione, e di conseguenza il ciclo for, è basata su una segnalazione tramite eccezione. Python ha una vasta libreria standard, il che lo rende adatto a molti impieghi. Oltre ai moduli della libreria standard se ne possono aggiungere altri scritti in C oppure Python per soddisfare le proprie esigenze particolari. Tra i moduli già disponibili ve ne sono per scrivere applicazioni web: sono supportati MIME, HTTP e tutti gli altri standard Internet. Sono anche disponibili moduli per creare applicazioni con interfaccia grafica, per connettersi a database relazionali, per usare le espressioni regolari. La libreria standard è uno dei punti forti di Python. Infatti essa è compatibile con tutte le piattaforme, a eccezione di poche funzioni, segnalate chiaramente nella documentazione come specifiche di una piattaforma particolare. Il seguente esempio di programma Python (versione 3.0) stampa il testo \"Hello, world!\": Il seguente è lo stesso programma funzionante con la versione 2.7 o precedenti: Il seguente esempio di programma Python (versione 3.8.5[22]) converte con i dovuti passaggi delle percentuali di rosso, verde e blu, un input in un colore codificato in RGB: L\\'output del codice sorgente sopra è il seguente: In Python è possibile creare classi attraverso un\\'istruzione specifica (class) che rappresenta l\\'alternativa più semplice, ma non esclusiva, per definire nuovi tipi di dato. Caratteristiche particolari in Python sono la possibilità di eredità multipla, la definizione di attributi tramite inizializzazione e non tramite dichiarazione, la dichiarazione esplicita del parametro riflessivo nei metodi d\\'istanza e l\\'overloading di funzioni e operatori. Il parametro riflessivo è per convenzione chiamato \\'self\\', ma il linguaggio non impone alcuna restrizione in merito alla scelta. Nessuna restrizione è posta anche alla definizione degli attributi: gli attributi esistono dal momento in cui vengono assegnati e l\\'assegnazione può avvenire al momento della costruzione (metodo __init__, da preferire) oppure all\\'interno di altri metodi. Inoltre gli attributi possono essere aggiunti esternamente alla classe o direttamente a un oggetto. Python fa distinzione tra metodi d\\'istanza, di classe o statici. Gli attributi possono essere invece d\\'istanza o di classe. Il supporto all\\'information hiding è parziale, ma integrato dallo strumento delle property che permettono di definire degli attributi virtuali con le caratteristiche di accesso volute. Inoltre sono previsti dei metodi \"speciali\" associati a operatori e funzioni di built-in. Ad esempio, ridefinendo il metodo __add__ si ridefinisce l\\'operatore di addizione quando il primo operando sia del tipo definito, mentre __str__ ridefinisce la conversione a stringa. Non è invece permesso l\\'overloading dei metodi. Attraverso l\\'uso della riflessione e delle metaclassi è inoltre possibile personalizzare ulteriormente la definizione delle classi. Ad esempio una classe Persona, avente solo un semplice costruttore e un metodo che restituisce il nome completo. È caldamente consigliato creare solo classi \"new style\", ovvero classi che ereditano (direttamente o indirettamente) da object[23]. A partire da Python 3.6, è possibile utilizzare una nuova funzione chiamata \"f-strings\"[24]. Anteponendo la lettera f prima delle virgolette che aprono la dichiarazione di una stringa, questa funzione viene attivata. Grazie a essa è possibile includere variabili all\\'interno di una stringa inserendo il loro nome tra parentesi graffe. In questo modo rendiamo il codice molto più leggibile senza dover utilizzare una serie di + per concatenare variabili e stringhe vuote. Inoltre, nel caso in cui volessimo includere una variabile o un oggetto non di tipo stringa, la conversione avverrà in automatico, risparmiando l\\'eccezione TypeError. L\\'output presentato sarà il seguente: Sig. Rossi Mario Numeri perfetti fino a n L\\'output restituisce i numeri perfetti fino a n (inserito in print). Altri progetti'"
      ]
     },
     "execution_count": 110,
     "metadata": {},
     "output_type": "execute_result"
    }
   ],
   "source": [
    "final_text"
   ]
  },
  {
   "cell_type": "code",
   "execution_count": 18,
   "metadata": {},
   "outputs": [],
   "source": [
    "from selenium import webdriver\n",
    "from webdriver_manager.chrome import ChromeDriverManager\n",
    "from selenium.webdriver.chrome.service import Service"
   ]
  },
  {
   "cell_type": "code",
   "execution_count": 23,
   "metadata": {},
   "outputs": [],
   "source": [
    "url = 'https://it.wikipedia.org/wiki/Sociologia'\n",
    "\n",
    "driver = webdriver.Chrome()\n",
    "driver.get(url)\n",
    "\n",
    "soup = BeautifulSoup(driver.page_source,'html.parser')"
   ]
  },
  {
   "cell_type": "code",
   "execution_count": 24,
   "metadata": {},
   "outputs": [],
   "source": [
    "article_title = soup.find('h1',{'class':'firstHeading mw-first-heading'}).text"
   ]
  },
  {
   "cell_type": "code",
   "execution_count": 25,
   "metadata": {},
   "outputs": [
    {
     "data": {
      "text/plain": [
       "'Sociologia'"
      ]
     },
     "execution_count": 25,
     "metadata": {},
     "output_type": "execute_result"
    }
   ],
   "source": [
    "article_title"
   ]
  },
  {
   "cell_type": "code",
   "execution_count": null,
   "metadata": {},
   "outputs": [],
   "source": []
  }
 ],
 "metadata": {
  "kernelspec": {
   "display_name": "Python 3 (ipykernel)",
   "language": "python",
   "name": "python3"
  },
  "language_info": {
   "codemirror_mode": {
    "name": "ipython",
    "version": 3
   },
   "file_extension": ".py",
   "mimetype": "text/x-python",
   "name": "python",
   "nbconvert_exporter": "python",
   "pygments_lexer": "ipython3",
   "version": "3.9.7"
  }
 },
 "nbformat": 4,
 "nbformat_minor": 4
}
