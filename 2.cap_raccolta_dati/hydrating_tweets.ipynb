{
 "cells": [
  {
   "cell_type": "code",
   "execution_count": 1,
   "id": "09eb0797",
   "metadata": {},
   "outputs": [],
   "source": [
    "import tweepy\n",
    "import csv \n",
    "import os"
   ]
  },
  {
   "cell_type": "code",
   "execution_count": 2,
   "id": "e5a62a1d",
   "metadata": {},
   "outputs": [],
   "source": [
    "def read_csv(filename): \n",
    "    with open(filename, 'r') as f: \n",
    "        reader = csv.DictReader(f)\n",
    "        for line in reader: \n",
    "            yield line\n",
    "\n",
    "def csv_writer(filename,to_write):\n",
    "    headers = to_write[0].keys()\n",
    "    file_exists = os.path.isfile(filename)\n",
    "\n",
    "    with open(filename,'a') as f:\n",
    "        writer = csv.DictWriter(f, delimiter=',',fieldnames=headers)\n",
    "        \n",
    "        \n",
    "        if not file_exists:\n",
    "            writer.writeheader()\n",
    "            for line in to_write:\n",
    "                writer.writerow(line)\n",
    "\n",
    "        \n",
    "        \n",
    "def assemble_tweet(tweet_chunk):\n",
    "    tweets = []\n",
    "\n",
    "    for i, t in enumerate(tweet_chunk.data): \n",
    "        tweet={}\n",
    "    \n",
    "        tweet['text'] = t.text\n",
    "        tweet['author_id'] = t.author_id\n",
    "        tweet['retweets'] = t.public_metrics['retweet_count']\n",
    "        tweet['replies'] = t.public_metrics['reply_count']\n",
    "        tweet['like'] = t.public_metrics['like_count']\n",
    "        tweet['retweeted_text'] = ''\n",
    "        tweet['username'] =''\n",
    "        tweet['created_at'] = t.created_at\n",
    "        tweet['lang']= t.lang\n",
    "        tweet['source'] = t.source\n",
    "    \n",
    "    \n",
    "    # trova testo di RT per risolvere il bug del troncamento\n",
    "    \n",
    "        if t.referenced_tweets:\n",
    "            for st in t.referenced_tweets: \n",
    "                if st.type =='retweeted':\n",
    "                    rt_id = st.id\n",
    "        \n",
    "        \n",
    "                    for rt in tweet_chunk.includes['tweets']: \n",
    "                        if rt.id == rt_id:\n",
    "                            tweet['retweeted_text'] = rt.text\n",
    "    \n",
    "    \n",
    "    # trova username autore\n",
    "   \n",
    "        for user in tweet_chunk.includes['users']: \n",
    "            if user.id == tweet['author_id']: \n",
    "                tweet['username']= user.username\n",
    "    \n",
    "                    \n",
    "                    \n",
    "                    \n",
    "                    \n",
    "                    \n",
    "                    \n",
    "                    \n",
    "        tweets.append(tweet)\n",
    "    \n",
    "    return tweets\n",
    "    \n",
    "    \n",
    "    \n",
    "\n",
    "    \n",
    "    "
   ]
  },
  {
   "cell_type": "code",
   "execution_count": 3,
   "id": "956fe354",
   "metadata": {},
   "outputs": [],
   "source": [
    "bearer_token = ''\n"
   ]
  },
  {
   "cell_type": "code",
   "execution_count": 4,
   "id": "83ab7c88",
   "metadata": {},
   "outputs": [],
   "source": [
    "fields = ['lang','created_at','public_metrics','author_id','referenced_tweets','source']\n",
    "\n",
    "client = tweepy.Client(bearer_token=bearer_token,wait_on_rate_limit=True)"
   ]
  },
  {
   "cell_type": "code",
   "execution_count": 5,
   "id": "38d682de",
   "metadata": {},
   "outputs": [],
   "source": [
    "ids=[]\n",
    "\n",
    "\n",
    "\n",
    "for row in read_csv('test_ids.csv'):\n",
    "    ids.append(row['id'])\n",
    "ids = [ids[i:i + 100] for i in range(0, len(ids), 100)]"
   ]
  },
  {
   "cell_type": "code",
   "execution_count": 6,
   "id": "38a40f88",
   "metadata": {},
   "outputs": [
    {
     "ename": "Forbidden",
     "evalue": "403 Forbidden\nWhen authenticating requests to the Twitter API v2 endpoints, you must use keys and tokens from a Twitter developer App that is attached to a Project. You can create a project via the developer portal.",
     "output_type": "error",
     "traceback": [
      "\u001b[0;31m---------------------------------------------------------------------------\u001b[0m",
      "\u001b[0;31mForbidden\u001b[0m                                 Traceback (most recent call last)",
      "\u001b[0;32m/tmp/ipykernel_289239/2050137296.py\u001b[0m in \u001b[0;36m<module>\u001b[0;34m\u001b[0m\n\u001b[1;32m      5\u001b[0m \u001b[0;34m\u001b[0m\u001b[0m\n\u001b[1;32m      6\u001b[0m \u001b[0;34m\u001b[0m\u001b[0m\n\u001b[0;32m----> 7\u001b[0;31m     \u001b[0mresult\u001b[0m \u001b[0;34m=\u001b[0m \u001b[0mclient\u001b[0m\u001b[0;34m.\u001b[0m\u001b[0mget_tweets\u001b[0m\u001b[0;34m(\u001b[0m\u001b[0mchunk\u001b[0m\u001b[0;34m,\u001b[0m \u001b[0mexpansions\u001b[0m\u001b[0;34m=\u001b[0m\u001b[0;34m[\u001b[0m\u001b[0;34m'author_id'\u001b[0m\u001b[0;34m,\u001b[0m\u001b[0;34m'referenced_tweets.id'\u001b[0m\u001b[0;34m]\u001b[0m\u001b[0;34m,\u001b[0m \u001b[0mtweet_fields\u001b[0m\u001b[0;34m=\u001b[0m\u001b[0mfields\u001b[0m\u001b[0;34m)\u001b[0m\u001b[0;34m\u001b[0m\u001b[0;34m\u001b[0m\u001b[0m\n\u001b[0m\u001b[1;32m      8\u001b[0m \u001b[0;34m\u001b[0m\u001b[0m\n\u001b[1;32m      9\u001b[0m \u001b[0;34m\u001b[0m\u001b[0m\n",
      "\u001b[0;32m~/anaconda3/lib/python3.9/site-packages/tweepy/client.py\u001b[0m in \u001b[0;36mget_tweets\u001b[0;34m(self, ids, user_auth, **params)\u001b[0m\n\u001b[1;32m   1801\u001b[0m         \"\"\"\n\u001b[1;32m   1802\u001b[0m         \u001b[0mparams\u001b[0m\u001b[0;34m[\u001b[0m\u001b[0;34m\"ids\"\u001b[0m\u001b[0;34m]\u001b[0m \u001b[0;34m=\u001b[0m \u001b[0mids\u001b[0m\u001b[0;34m\u001b[0m\u001b[0;34m\u001b[0m\u001b[0m\n\u001b[0;32m-> 1803\u001b[0;31m         return self._make_request(\n\u001b[0m\u001b[1;32m   1804\u001b[0m             \u001b[0;34m\"GET\"\u001b[0m\u001b[0;34m,\u001b[0m \u001b[0;34m\"/2/tweets\"\u001b[0m\u001b[0;34m,\u001b[0m \u001b[0mparams\u001b[0m\u001b[0;34m=\u001b[0m\u001b[0mparams\u001b[0m\u001b[0;34m,\u001b[0m\u001b[0;34m\u001b[0m\u001b[0;34m\u001b[0m\u001b[0m\n\u001b[1;32m   1805\u001b[0m             endpoint_parameters=(\n",
      "\u001b[0;32m~/anaconda3/lib/python3.9/site-packages/tweepy/client.py\u001b[0m in \u001b[0;36m_make_request\u001b[0;34m(self, method, route, params, endpoint_parameters, json, data_type, user_auth)\u001b[0m\n\u001b[1;32m    124\u001b[0m         \u001b[0mrequest_params\u001b[0m \u001b[0;34m=\u001b[0m \u001b[0mself\u001b[0m\u001b[0;34m.\u001b[0m\u001b[0m_process_params\u001b[0m\u001b[0;34m(\u001b[0m\u001b[0mparams\u001b[0m\u001b[0;34m,\u001b[0m \u001b[0mendpoint_parameters\u001b[0m\u001b[0;34m)\u001b[0m\u001b[0;34m\u001b[0m\u001b[0;34m\u001b[0m\u001b[0m\n\u001b[1;32m    125\u001b[0m \u001b[0;34m\u001b[0m\u001b[0m\n\u001b[0;32m--> 126\u001b[0;31m         response = self.request(method, route, params=request_params,\n\u001b[0m\u001b[1;32m    127\u001b[0m                                 json=json, user_auth=user_auth)\n\u001b[1;32m    128\u001b[0m \u001b[0;34m\u001b[0m\u001b[0m\n",
      "\u001b[0;32m~/anaconda3/lib/python3.9/site-packages/tweepy/client.py\u001b[0m in \u001b[0;36mrequest\u001b[0;34m(self, method, route, params, json, user_auth)\u001b[0m\n\u001b[1;32m     97\u001b[0m                 \u001b[0;32mraise\u001b[0m \u001b[0mUnauthorized\u001b[0m\u001b[0;34m(\u001b[0m\u001b[0mresponse\u001b[0m\u001b[0;34m)\u001b[0m\u001b[0;34m\u001b[0m\u001b[0;34m\u001b[0m\u001b[0m\n\u001b[1;32m     98\u001b[0m             \u001b[0;32mif\u001b[0m \u001b[0mresponse\u001b[0m\u001b[0;34m.\u001b[0m\u001b[0mstatus_code\u001b[0m \u001b[0;34m==\u001b[0m \u001b[0;36m403\u001b[0m\u001b[0;34m:\u001b[0m\u001b[0;34m\u001b[0m\u001b[0;34m\u001b[0m\u001b[0m\n\u001b[0;32m---> 99\u001b[0;31m                 \u001b[0;32mraise\u001b[0m \u001b[0mForbidden\u001b[0m\u001b[0;34m(\u001b[0m\u001b[0mresponse\u001b[0m\u001b[0;34m)\u001b[0m\u001b[0;34m\u001b[0m\u001b[0;34m\u001b[0m\u001b[0m\n\u001b[0m\u001b[1;32m    100\u001b[0m             \u001b[0;32mif\u001b[0m \u001b[0mresponse\u001b[0m\u001b[0;34m.\u001b[0m\u001b[0mstatus_code\u001b[0m \u001b[0;34m==\u001b[0m \u001b[0;36m404\u001b[0m\u001b[0;34m:\u001b[0m\u001b[0;34m\u001b[0m\u001b[0;34m\u001b[0m\u001b[0m\n\u001b[1;32m    101\u001b[0m                 \u001b[0;32mraise\u001b[0m \u001b[0mNotFound\u001b[0m\u001b[0;34m(\u001b[0m\u001b[0mresponse\u001b[0m\u001b[0;34m)\u001b[0m\u001b[0;34m\u001b[0m\u001b[0;34m\u001b[0m\u001b[0m\n",
      "\u001b[0;31mForbidden\u001b[0m: 403 Forbidden\nWhen authenticating requests to the Twitter API v2 endpoints, you must use keys and tokens from a Twitter developer App that is attached to a Project. You can create a project via the developer portal."
     ]
    }
   ],
   "source": [
    "tweet_chunks =[]\n",
    "\n",
    "for i, chunk in enumerate(ids):\n",
    "    \n",
    "\n",
    "\n",
    "    result = client.get_tweets(chunk, expansions=['author_id','referenced_tweets.id'], tweet_fields=fields)\n",
    "    \n",
    "\n",
    "    tweet_chunks.append(result)\n",
    "    print('processing chunk n '+str(i))\n",
    "\n",
    "    \n",
    "\n",
    "        "
   ]
  },
  {
   "cell_type": "code",
   "execution_count": 7,
   "id": "61788710",
   "metadata": {},
   "outputs": [],
   "source": [
    "tweets=[]\n",
    "\n",
    "\n",
    "for c in tweet_chunks:\n",
    "    tweets_t = assemble_tweet(c)\n",
    "    tweets.extend(tweets_t)"
   ]
  },
  {
   "cell_type": "code",
   "execution_count": 33,
   "id": "ef5b465c",
   "metadata": {},
   "outputs": [],
   "source": [
    "csv_writer('hydrated_tweets.csv',tweets)"
   ]
  },
  {
   "cell_type": "code",
   "execution_count": null,
   "id": "b0d38bfa",
   "metadata": {},
   "outputs": [],
   "source": []
  }
 ],
 "metadata": {
  "kernelspec": {
   "display_name": "Python 3 (ipykernel)",
   "language": "python",
   "name": "python3"
  },
  "language_info": {
   "codemirror_mode": {
    "name": "ipython",
    "version": 3
   },
   "file_extension": ".py",
   "mimetype": "text/x-python",
   "name": "python",
   "nbconvert_exporter": "python",
   "pygments_lexer": "ipython3",
   "version": "3.9.7"
  }
 },
 "nbformat": 4,
 "nbformat_minor": 5
}
